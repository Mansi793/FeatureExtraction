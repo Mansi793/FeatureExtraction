{
 "cells": [
  {
   "cell_type": "code",
   "execution_count": 1,
   "metadata": {},
   "outputs": [
    {
     "name": "stderr",
     "output_type": "stream",
     "text": [
      "C:\\Users\\Bhavya\\Anaconda3\\envs\\AppliedDataScience\\lib\\site-packages\\statsmodels\\compat\\pandas.py:56: FutureWarning: The pandas.core.datetools module is deprecated and will be removed in a future version. Please use the pandas.tseries module instead.\n",
      "  from pandas.core import datetools\n"
     ]
    }
   ],
   "source": [
    "import pandas as pd\n",
    "import matplotlib as mpl\n",
    "import matplotlib.pyplot as plt\n",
    "from sklearn import preprocessing\n",
    "import numpy as np\n",
    "from tsfresh import extract_features, extract_relevant_features, select_features\n",
    "from tsfresh.utilities.dataframe_functions import impute\n",
    "from tsfresh.feature_extraction import ComprehensiveFCParameters, MinimalFCParameters, EfficientFCParameters\n",
    "\n",
    "mpl.rcParams['figure.figsize'] = (8,1)\n"
   ]
  },
  {
   "cell_type": "code",
   "execution_count": 2,
   "metadata": {},
   "outputs": [],
   "source": [
    "sub1_bowing_processed = pd.read_csv('sub1_Bowing_processed.txt', sep=\"\\s+\", header = None)\n",
    "sub1_bowing_processed.columns = [\"R-Bic\", \"R-Tri\", \"L-Bic\", \"L-Tri\",\"R-Thi\", \"R-Ham\", \"L-Thi\", \"L-Ham\"]\n",
    "sub2_bowing_processed = pd.read_csv('sub2_Bowing_processed.txt', sep=\"\\s+\", header = None)\n",
    "sub2_bowing_processed.columns = [\"R-Bic\", \"R-Tri\", \"L-Bic\", \"L-Tri\",\"R-Thi\", \"R-Ham\", \"L-Thi\", \"L-Ham\"]\n",
    "sub3_bowing_processed = pd.read_csv('sub3_Bowing_processed.txt', sep=\"\\s+\", header = None)\n",
    "sub3_bowing_processed.columns = [\"R-Bic\", \"R-Tri\", \"L-Bic\", \"L-Tri\",\"R-Thi\", \"R-Ham\", \"L-Thi\", \"L-Ham\"]\n",
    "sub4_bowing_processed = pd.read_csv('sub4_Bowing_processed.txt', sep=\"\\s+\", header = None)\n",
    "sub4_bowing_processed.columns = [\"R-Bic\", \"R-Tri\", \"L-Bic\", \"L-Tri\",\"R-Thi\", \"R-Ham\", \"L-Thi\", \"L-Ham\"]\n",
    "\n",
    "sub1_clapping_processed = pd.read_csv('sub1_Clapping_processed.txt', sep=\"\\s+\", header = None)\n",
    "sub1_clapping_processed.columns = [\"R-Bic\", \"R-Tri\", \"L-Bic\", \"L-Tri\",\"R-Thi\", \"R-Ham\", \"L-Thi\", \"L-Ham\"]\n",
    "sub2_clapping_processed = pd.read_csv('sub2_Clapping_processed.txt', sep=\"\\s+\", header = None)\n",
    "sub2_clapping_processed.columns = [\"R-Bic\", \"R-Tri\", \"L-Bic\", \"L-Tri\",\"R-Thi\", \"R-Ham\", \"L-Thi\", \"L-Ham\"]\n",
    "sub3_clapping_processed = pd.read_csv('sub3_Clapping_processed.txt', sep=\"\\s+\", header = None)\n",
    "sub3_clapping_processed.columns = [\"R-Bic\", \"R-Tri\", \"L-Bic\", \"L-Tri\",\"R-Thi\", \"R-Ham\", \"L-Thi\", \"L-Ham\"]\n",
    "sub4_clapping_processed = pd.read_csv('sub4_Clapping_processed.txt', sep=\"\\s+\", header = None)\n",
    "sub4_clapping_processed.columns = [\"R-Bic\", \"R-Tri\", \"L-Bic\", \"L-Tri\",\"R-Thi\", \"R-Ham\", \"L-Thi\", \"L-Ham\"]\n",
    "\n",
    "sub1_handshaking_processed = pd.read_csv('sub1_Handshaking_processed.txt', sep=\"\\s+\", header = None)\n",
    "sub1_handshaking_processed.columns = [\"R-Bic\", \"R-Tri\", \"L-Bic\", \"L-Tri\",\"R-Thi\", \"R-Ham\", \"L-Thi\", \"L-Ham\"]\n",
    "sub2_handshaking_processed = pd.read_csv('sub2_Handshaking_processed.txt', sep=\"\\s+\", header = None)\n",
    "sub2_handshaking_processed.columns = [\"R-Bic\", \"R-Tri\", \"L-Bic\", \"L-Tri\",\"R-Thi\", \"R-Ham\", \"L-Thi\", \"L-Ham\"]\n",
    "sub3_handshaking_processed = pd.read_csv('sub3_Handshaking_processed.txt', sep=\"\\s+\", header = None)\n",
    "sub3_handshaking_processed.columns = [\"R-Bic\", \"R-Tri\", \"L-Bic\", \"L-Tri\",\"R-Thi\", \"R-Ham\", \"L-Thi\", \"L-Ham\"]\n",
    "sub4_handshaking_processed = pd.read_csv('sub4_Handshaking_processed.txt', sep=\"\\s+\", header = None)\n",
    "sub4_handshaking_processed.columns = [\"R-Bic\", \"R-Tri\", \"L-Bic\", \"L-Tri\",\"R-Thi\", \"R-Ham\", \"L-Thi\", \"L-Ham\"]\n",
    "\n",
    "sub1_hugging_processed = pd.read_csv('sub1_Hugging_processed.txt', sep=\"\\s+\", header = None)\n",
    "sub1_hugging_processed.columns = [\"R-Bic\", \"R-Tri\", \"L-Bic\", \"L-Tri\",\"R-Thi\", \"R-Ham\", \"L-Thi\", \"L-Ham\"]\n",
    "sub2_hugging_processed = pd.read_csv('sub2_Hugging_processed.txt', sep=\"\\s+\", header = None)\n",
    "sub2_hugging_processed.columns = [\"R-Bic\", \"R-Tri\", \"L-Bic\", \"L-Tri\",\"R-Thi\", \"R-Ham\", \"L-Thi\", \"L-Ham\"]\n",
    "sub3_hugging_processed = pd.read_csv('sub3_Hugging_processed.txt', sep=\"\\s+\", header = None)\n",
    "sub3_hugging_processed.columns = [\"R-Bic\", \"R-Tri\", \"L-Bic\", \"L-Tri\",\"R-Thi\", \"R-Ham\", \"L-Thi\", \"L-Ham\"]\n",
    "sub4_hugging_processed = pd.read_csv('sub4_Hugging_processed.txt', sep=\"\\s+\", header = None)\n",
    "sub4_hugging_processed.columns = [\"R-Bic\", \"R-Tri\", \"L-Bic\", \"L-Tri\",\"R-Thi\", \"R-Ham\", \"L-Thi\", \"L-Ham\"]\n",
    " \n",
    "sub1_jumping_processed = pd.read_csv('sub1_Jumping_processed.txt', sep=\"\\s+\", header = None)\n",
    "sub1_jumping_processed.columns = [\"R-Bic\", \"R-Tri\", \"L-Bic\", \"L-Tri\",\"R-Thi\", \"R-Ham\", \"L-Thi\", \"L-Ham\"]\n",
    "sub2_jumping_processed = pd.read_csv('sub2_Jumping_processed.txt', sep=\"\\s+\", header = None)\n",
    "sub2_jumping_processed.columns = [\"R-Bic\", \"R-Tri\", \"L-Bic\", \"L-Tri\",\"R-Thi\", \"R-Ham\", \"L-Thi\", \"L-Ham\"]\n",
    "sub3_jumping_processed = pd.read_csv('sub3_Jumping_processed.txt', sep=\"\\s+\", header = None)\n",
    "sub3_jumping_processed.columns = [\"R-Bic\", \"R-Tri\", \"L-Bic\", \"L-Tri\",\"R-Thi\", \"R-Ham\", \"L-Thi\", \"L-Ham\"]\n",
    "sub4_jumping_processed = pd.read_csv('sub4_Jumping_processed.txt', sep=\"\\s+\", header = None)\n",
    "sub4_jumping_processed.columns = [\"R-Bic\", \"R-Tri\", \"L-Bic\", \"L-Tri\",\"R-Thi\", \"R-Ham\", \"L-Thi\", \"L-Ham\"]\n",
    "\n",
    "sub1_running_processed = pd.read_csv('sub1_Running_processed.txt', sep=\"\\s+\", header = None)\n",
    "sub1_running_processed.columns = [\"R-Bic\", \"R-Tri\", \"L-Bic\", \"L-Tri\",\"R-Thi\", \"R-Ham\", \"L-Thi\", \"L-Ham\"]\n",
    "sub2_running_processed = pd.read_csv('sub2_Running_processed.txt', sep=\"\\s+\", header = None)\n",
    "sub2_running_processed.columns = [\"R-Bic\", \"R-Tri\", \"L-Bic\", \"L-Tri\",\"R-Thi\", \"R-Ham\", \"L-Thi\", \"L-Ham\"]\n",
    "sub3_running_processed = pd.read_csv('sub3_Running_processed.txt', sep=\"\\s+\", header = None)\n",
    "sub3_running_processed.columns = [\"R-Bic\", \"R-Tri\", \"L-Bic\", \"L-Tri\",\"R-Thi\", \"R-Ham\", \"L-Thi\", \"L-Ham\"]\n",
    "sub4_running_processed = pd.read_csv('sub4_Running_processed.txt', sep=\"\\s+\", header = None)\n",
    "sub4_running_processed.columns = [\"R-Bic\", \"R-Tri\", \"L-Bic\", \"L-Tri\",\"R-Thi\", \"R-Ham\", \"L-Thi\", \"L-Ham\"]\n",
    "\n",
    "sub1_seating_processed = pd.read_csv('sub1_Seating_processed.txt', sep=\"\\s+\", header = None)\n",
    "sub1_seating_processed.columns = [\"R-Bic\", \"R-Tri\", \"L-Bic\", \"L-Tri\",\"R-Thi\", \"R-Ham\", \"L-Thi\", \"L-Ham\"]\n",
    "sub2_seating_processed = pd.read_csv('sub2_Seating_processed.txt', sep=\"\\s+\", header = None)\n",
    "sub2_seating_processed.columns = [\"R-Bic\", \"R-Tri\", \"L-Bic\", \"L-Tri\",\"R-Thi\", \"R-Ham\", \"L-Thi\", \"L-Ham\"]\n",
    "sub3_seating_processed = pd.read_csv('sub3_Seating_processed.txt', sep=\"\\s+\", header = None)\n",
    "sub3_seating_processed.columns = [\"R-Bic\", \"R-Tri\", \"L-Bic\", \"L-Tri\",\"R-Thi\", \"R-Ham\", \"L-Thi\", \"L-Ham\"]\n",
    "sub4_seating_processed = pd.read_csv('sub4_Seating_processed.txt', sep=\"\\s+\", header = None)\n",
    "sub4_seating_processed.columns = [\"R-Bic\", \"R-Tri\", \"L-Bic\", \"L-Tri\",\"R-Thi\", \"R-Ham\", \"L-Thi\", \"L-Ham\"]\n",
    "\n",
    "sub1_standing_processed = pd.read_csv('sub1_Standing_processed.txt', sep=\"\\s+\", header = None)\n",
    "sub1_standing_processed.columns = [\"R-Bic\", \"R-Tri\", \"L-Bic\", \"L-Tri\",\"R-Thi\", \"R-Ham\", \"L-Thi\", \"L-Ham\"]\n",
    "sub2_standing_processed = pd.read_csv('sub2_Standing_processed.txt', sep=\"\\s+\", header = None)\n",
    "sub2_standing_processed.columns = [\"R-Bic\", \"R-Tri\", \"L-Bic\", \"L-Tri\",\"R-Thi\", \"R-Ham\", \"L-Thi\", \"L-Ham\"]\n",
    "sub3_standing_processed = pd.read_csv('sub3_Standing_processed.txt', sep=\"\\s+\", header = None)\n",
    "sub3_standing_processed.columns = [\"R-Bic\", \"R-Tri\", \"L-Bic\", \"L-Tri\",\"R-Thi\", \"R-Ham\", \"L-Thi\", \"L-Ham\"]\n",
    "sub4_standing_processed = pd.read_csv('sub4_Standing_processed.txt', sep=\"\\s+\", header = None)\n",
    "sub4_standing_processed.columns = [\"R-Bic\", \"R-Tri\", \"L-Bic\", \"L-Tri\",\"R-Thi\", \"R-Ham\", \"L-Thi\", \"L-Ham\"]\n",
    "\n",
    "sub1_walking_processed = pd.read_csv('sub1_Walking_processed.txt', sep=\"\\s+\", header = None)\n",
    "sub1_walking_processed.columns = [\"R-Bic\", \"R-Tri\", \"L-Bic\", \"L-Tri\",\"R-Thi\", \"R-Ham\", \"L-Thi\", \"L-Ham\"]\n",
    "sub2_walking_processed = pd.read_csv('sub2_Walking_processed.txt', sep=\"\\s+\", header = None)\n",
    "sub2_walking_processed.columns = [\"R-Bic\", \"R-Tri\", \"L-Bic\", \"L-Tri\",\"R-Thi\", \"R-Ham\", \"L-Thi\", \"L-Ham\"]\n",
    "sub3_walking_processed = pd.read_csv('sub3_Walking_processed.txt', sep=\"\\s+\", header = None)\n",
    "sub3_walking_processed.columns = [\"R-Bic\", \"R-Tri\", \"L-Bic\", \"L-Tri\",\"R-Thi\", \"R-Ham\", \"L-Thi\", \"L-Ham\"]\n",
    "sub4_walking_processed = pd.read_csv('sub4_Walking_processed.txt', sep=\"\\s+\", header = None)\n",
    "sub4_walking_processed.columns = [\"R-Bic\", \"R-Tri\", \"L-Bic\", \"L-Tri\",\"R-Thi\", \"R-Ham\", \"L-Thi\", \"L-Ham\"]\n",
    "\n",
    "sub1_waving_processed = pd.read_csv('sub1_Waving_processed.txt', sep=\"\\s+\", header = None)\n",
    "sub1_waving_processed.columns = [\"R-Bic\", \"R-Tri\", \"L-Bic\", \"L-Tri\",\"R-Thi\", \"R-Ham\", \"L-Thi\", \"L-Ham\"]\n",
    "sub2_waving_processed = pd.read_csv('sub2_Waving_processed.txt', sep=\"\\s+\", header = None)\n",
    "sub2_waving_processed.columns = [\"R-Bic\", \"R-Tri\", \"L-Bic\", \"L-Tri\",\"R-Thi\", \"R-Ham\", \"L-Thi\", \"L-Ham\"]\n",
    "sub3_waving_processed = pd.read_csv('sub3_Waving_processed.txt', sep=\"\\s+\", header = None)\n",
    "sub3_waving_processed.columns = [\"R-Bic\", \"R-Tri\", \"L-Bic\", \"L-Tri\",\"R-Thi\", \"R-Ham\", \"L-Thi\", \"L-Ham\"]\n",
    "sub4_waving_processed = pd.read_csv('sub4_Waving_processed.txt', sep=\"\\s+\", header = None)\n",
    "sub4_waving_processed.columns = [\"R-Bic\", \"R-Tri\", \"L-Bic\", \"L-Tri\",\"R-Thi\", \"R-Ham\", \"L-Thi\", \"L-Ham\"]\n"
   ]
  },
  {
   "cell_type": "code",
   "execution_count": 3,
   "metadata": {},
   "outputs": [],
   "source": [
    "\n",
    "sub1_frontkicking_processed = pd.read_csv('sub1_Frontkicking_processed.txt', sep=\"\\s+\", header = None)\n",
    "sub1_frontkicking_processed.columns = [\"R-Bic\", \"R-Tri\", \"L-Bic\", \"L-Tri\",\"R-Thi\", \"R-Ham\", \"L-Thi\", \"L-Ham\"]\n",
    "sub2_frontkicking_processed = pd.read_csv('sub2_Frontkicking_processed.txt', sep=\"\\s+\", header = None)\n",
    "sub2_frontkicking_processed.columns = [\"R-Bic\", \"R-Tri\", \"L-Bic\", \"L-Tri\",\"R-Thi\", \"R-Ham\", \"L-Thi\", \"L-Ham\"]\n",
    "sub3_frontkicking_processed = pd.read_csv('sub3_Frontkicking_processed.txt', sep=\"\\s+\", header = None)\n",
    "sub3_frontkicking_processed.columns = [\"R-Bic\", \"R-Tri\", \"L-Bic\", \"L-Tri\",\"R-Thi\", \"R-Ham\", \"L-Thi\", \"L-Ham\"]\n",
    "sub4_frontkicking_processed = pd.read_csv('sub4_Frontkicking_processed.txt', sep=\"\\s+\", header = None)\n",
    "sub4_frontkicking_processed.columns = [\"R-Bic\", \"R-Tri\", \"L-Bic\", \"L-Tri\",\"R-Thi\", \"R-Ham\", \"L-Thi\", \"L-Ham\"]\n",
    "\n",
    "sub1_elbowing_processed = pd.read_csv('sub1_Elbowing_processed.txt', sep=\"\\s+\", header = None)\n",
    "sub1_elbowing_processed.columns = [\"R-Bic\", \"R-Tri\", \"L-Bic\", \"L-Tri\",\"R-Thi\", \"R-Ham\", \"L-Thi\", \"L-Ham\"]\n",
    "sub2_elbowing_processed = pd.read_csv('sub2_Elbowing_processed.txt', sep=\"\\s+\", header = None)\n",
    "sub2_elbowing_processed.columns = [\"R-Bic\", \"R-Tri\", \"L-Bic\", \"L-Tri\",\"R-Thi\", \"R-Ham\", \"L-Thi\", \"L-Ham\"]\n",
    "sub3_elbowing_processed = pd.read_csv('sub3_Elbowing_processed.txt', sep=\"\\s+\", header = None)\n",
    "sub3_elbowing_processed.columns = [\"R-Bic\", \"R-Tri\", \"L-Bic\", \"L-Tri\",\"R-Thi\", \"R-Ham\", \"L-Thi\", \"L-Ham\"]\n",
    "sub4_elbowing_processed = pd.read_csv('sub4_Elbowing_processed.txt', sep=\"\\s+\", header = None)\n",
    "sub4_elbowing_processed.columns = [\"R-Bic\", \"R-Tri\", \"L-Bic\", \"L-Tri\",\"R-Thi\", \"R-Ham\", \"L-Thi\", \"L-Ham\"]\n",
    "\n",
    "sub1_hammering_processed = pd.read_csv('sub1_Hammering_processed.txt', sep=\"\\s+\", header = None)\n",
    "sub1_hammering_processed.columns = [\"R-Bic\", \"R-Tri\", \"L-Bic\", \"L-Tri\",\"R-Thi\", \"R-Ham\", \"L-Thi\", \"L-Ham\"]\n",
    "sub2_hammering_processed = pd.read_csv('sub2_Hammering_processed.txt', sep=\"\\s+\", header = None)\n",
    "sub2_hammering_processed.columns = [\"R-Bic\", \"R-Tri\", \"L-Bic\", \"L-Tri\",\"R-Thi\", \"R-Ham\", \"L-Thi\", \"L-Ham\"]\n",
    "sub3_hammering_processed = pd.read_csv('sub3_Hammering_processed.txt', sep=\"\\s+\", header = None)\n",
    "sub3_hammering_processed.columns = [\"R-Bic\", \"R-Tri\", \"L-Bic\", \"L-Tri\",\"R-Thi\", \"R-Ham\", \"L-Thi\", \"L-Ham\"]\n",
    "sub4_hammering_processed = pd.read_csv('sub4_Hammering_processed.txt', sep=\"\\s+\", header = None)\n",
    "sub4_hammering_processed.columns = [\"R-Bic\", \"R-Tri\", \"L-Bic\", \"L-Tri\",\"R-Thi\", \"R-Ham\", \"L-Thi\", \"L-Ham\"]\n",
    "\n",
    "sub1_headering_processed = pd.read_csv('sub1_Headering_processed.txt', sep=\"\\s+\", header = None)\n",
    "sub1_headering_processed.columns = [\"R-Bic\", \"R-Tri\", \"L-Bic\", \"L-Tri\",\"R-Thi\", \"R-Ham\", \"L-Thi\", \"L-Ham\"]\n",
    "sub2_headering_processed = pd.read_csv('sub2_Headering_processed.txt', sep=\"\\s+\", header = None)\n",
    "sub2_headering_processed.columns = [\"R-Bic\", \"R-Tri\", \"L-Bic\", \"L-Tri\",\"R-Thi\", \"R-Ham\", \"L-Thi\", \"L-Ham\"]\n",
    "sub3_headering_processed = pd.read_csv('sub3_Headering_processed.txt', sep=\"\\s+\", header = None)\n",
    "sub3_headering_processed.columns = [\"R-Bic\", \"R-Tri\", \"L-Bic\", \"L-Tri\",\"R-Thi\", \"R-Ham\", \"L-Thi\", \"L-Ham\"]\n",
    "sub4_headering_processed = pd.read_csv('sub4_Headering_processed.txt', sep=\"\\s+\", header = None)\n",
    "sub4_headering_processed.columns = [\"R-Bic\", \"R-Tri\", \"L-Bic\", \"L-Tri\",\"R-Thi\", \"R-Ham\", \"L-Thi\", \"L-Ham\"]\n",
    "\n",
    "sub1_kneeing_processed = pd.read_csv('sub1_Kneeing_processed.txt', sep=\"\\s+\", header = None)\n",
    "sub1_kneeing_processed.columns = [\"R-Bic\", \"R-Tri\", \"L-Bic\", \"L-Tri\",\"R-Thi\", \"R-Ham\", \"L-Thi\", \"L-Ham\"]\n",
    "sub2_kneeing_processed = pd.read_csv('sub2_Kneeing_processed.txt', sep=\"\\s+\", header = None)\n",
    "sub2_kneeing_processed.columns = [\"R-Bic\", \"R-Tri\", \"L-Bic\", \"L-Tri\",\"R-Thi\", \"R-Ham\", \"L-Thi\", \"L-Ham\"]\n",
    "sub3_kneeing_processed = pd.read_csv('sub3_Kneeing_processed.txt', sep=\"\\s+\", header = None)\n",
    "sub3_kneeing_processed.columns = [\"R-Bic\", \"R-Tri\", \"L-Bic\", \"L-Tri\",\"R-Thi\", \"R-Ham\", \"L-Thi\", \"L-Ham\"]\n",
    "sub4_kneeing_processed = pd.read_csv('sub4_Kneeing_processed.txt', sep=\"\\s+\", header = None)\n",
    "sub4_kneeing_processed.columns = [\"R-Bic\", \"R-Tri\", \"L-Bic\", \"L-Tri\",\"R-Thi\", \"R-Ham\", \"L-Thi\", \"L-Ham\"]\n",
    "\n",
    "sub1_pulling_processed = pd.read_csv('sub1_Pulling_processed.txt', sep=\"\\s+\", header = None)\n",
    "sub1_pulling_processed.columns = [\"R-Bic\", \"R-Tri\", \"L-Bic\", \"L-Tri\",\"R-Thi\", \"R-Ham\", \"L-Thi\", \"L-Ham\"]\n",
    "sub2_pulling_processed = pd.read_csv('sub2_Pulling_processed.txt', sep=\"\\s+\", header = None)\n",
    "sub2_pulling_processed.columns = [\"R-Bic\", \"R-Tri\", \"L-Bic\", \"L-Tri\",\"R-Thi\", \"R-Ham\", \"L-Thi\", \"L-Ham\"]\n",
    "sub3_pulling_processed = pd.read_csv('sub3_Pulling_processed.txt', sep=\"\\s+\", header = None)\n",
    "sub3_pulling_processed.columns = [\"R-Bic\", \"R-Tri\", \"L-Bic\", \"L-Tri\",\"R-Thi\", \"R-Ham\", \"L-Thi\", \"L-Ham\"]\n",
    "sub4_pulling_processed = pd.read_csv('sub4_Pulling_processed.txt', sep=\"\\s+\", header = None)\n",
    "sub4_pulling_processed.columns = [\"R-Bic\", \"R-Tri\", \"L-Bic\", \"L-Tri\",\"R-Thi\", \"R-Ham\", \"L-Thi\", \"L-Ham\"]\n",
    "\n",
    "sub1_punching_processed = pd.read_csv('sub1_Punching_processed.txt', sep=\"\\s+\", header = None)\n",
    "sub1_punching_processed.columns = [\"R-Bic\", \"R-Tri\", \"L-Bic\", \"L-Tri\",\"R-Thi\", \"R-Ham\", \"L-Thi\", \"L-Ham\"]\n",
    "sub2_punching_processed = pd.read_csv('sub2_Punching_processed.txt', sep=\"\\s+\", header = None)\n",
    "sub2_punching_processed.columns = [\"R-Bic\", \"R-Tri\", \"L-Bic\", \"L-Tri\",\"R-Thi\", \"R-Ham\", \"L-Thi\", \"L-Ham\"]\n",
    "sub3_punching_processed = pd.read_csv('sub3_Punching_processed.txt', sep=\"\\s+\", header = None)\n",
    "sub3_punching_processed.columns = [\"R-Bic\", \"R-Tri\", \"L-Bic\", \"L-Tri\",\"R-Thi\", \"R-Ham\", \"L-Thi\", \"L-Ham\"]\n",
    "sub4_punching_processed = pd.read_csv('sub4_Punching_processed.txt', sep=\"\\s+\", header = None)\n",
    "sub4_punching_processed.columns = [\"R-Bic\", \"R-Tri\", \"L-Bic\", \"L-Tri\",\"R-Thi\", \"R-Ham\", \"L-Thi\", \"L-Ham\"]\n",
    "\n",
    "sub1_pushing_processed = pd.read_csv('sub1_Pushing_processed.txt', sep=\"\\s+\", header = None)\n",
    "sub1_pushing_processed.columns = [\"R-Bic\", \"R-Tri\", \"L-Bic\", \"L-Tri\",\"R-Thi\", \"R-Ham\", \"L-Thi\", \"L-Ham\"]\n",
    "sub2_pushing_processed = pd.read_csv('sub2_Pushing_processed.txt', sep=\"\\s+\", header = None)\n",
    "sub2_pushing_processed.columns = [\"R-Bic\", \"R-Tri\", \"L-Bic\", \"L-Tri\",\"R-Thi\", \"R-Ham\", \"L-Thi\", \"L-Ham\"]\n",
    "sub3_pushing_processed = pd.read_csv('sub3_Pushing_processed.txt', sep=\"\\s+\", header = None)\n",
    "sub3_pushing_processed.columns = [\"R-Bic\", \"R-Tri\", \"L-Bic\", \"L-Tri\",\"R-Thi\", \"R-Ham\", \"L-Thi\", \"L-Ham\"]\n",
    "sub4_pushing_processed = pd.read_csv('sub4_Pushing_processed.txt', sep=\"\\s+\", header = None)\n",
    "sub4_pushing_processed.columns = [\"R-Bic\", \"R-Tri\", \"L-Bic\", \"L-Tri\",\"R-Thi\", \"R-Ham\", \"L-Thi\", \"L-Ham\"]\n",
    "\n",
    "sub1_sidekicking_processed = pd.read_csv('sub1_Sidekicking_processed.txt', sep=\"\\s+\", header = None)\n",
    "sub1_sidekicking_processed.columns = [\"R-Bic\", \"R-Tri\", \"L-Bic\", \"L-Tri\",\"R-Thi\", \"R-Ham\", \"L-Thi\", \"L-Ham\"]\n",
    "sub2_sidekicking_processed = pd.read_csv('sub2_Sidekicking_processed.txt', sep=\"\\s+\", header = None)\n",
    "sub2_sidekicking_processed.columns = [\"R-Bic\", \"R-Tri\", \"L-Bic\", \"L-Tri\",\"R-Thi\", \"R-Ham\", \"L-Thi\", \"L-Ham\"]\n",
    "sub3_sidekicking_processed = pd.read_csv('sub3_Sidekicking_processed.txt', sep=\"\\s+\", header = None)\n",
    "sub3_sidekicking_processed.columns = [\"R-Bic\", \"R-Tri\", \"L-Bic\", \"L-Tri\",\"R-Thi\", \"R-Ham\", \"L-Thi\", \"L-Ham\"]\n",
    "sub4_sidekicking_processed = pd.read_csv('sub4_Sidekicking_processed.txt', sep=\"\\s+\", header = None)\n",
    "sub4_sidekicking_processed.columns = [\"R-Bic\", \"R-Tri\", \"L-Bic\", \"L-Tri\",\"R-Thi\", \"R-Ham\", \"L-Thi\", \"L-Ham\"]\n",
    "\n",
    "sub1_slapping_processed = pd.read_csv('sub1_Slapping_processed.txt', sep=\"\\s+\", header = None)\n",
    "sub1_slapping_processed.columns = [\"R-Bic\", \"R-Tri\", \"L-Bic\", \"L-Tri\",\"R-Thi\", \"R-Ham\", \"L-Thi\", \"L-Ham\"]\n",
    "sub2_slapping_processed = pd.read_csv('sub2_Slapping_processed.txt', sep=\"\\s+\", header = None)\n",
    "sub2_slapping_processed.columns = [\"R-Bic\", \"R-Tri\", \"L-Bic\", \"L-Tri\",\"R-Thi\", \"R-Ham\", \"L-Thi\", \"L-Ham\"]\n",
    "sub3_slapping_processed = pd.read_csv('sub3_Slapping_processed.txt', sep=\"\\s+\", header = None)\n",
    "sub3_slapping_processed.columns = [\"R-Bic\", \"R-Tri\", \"L-Bic\", \"L-Tri\",\"R-Thi\", \"R-Ham\", \"L-Thi\", \"L-Ham\"]\n",
    "sub4_slapping_processed = pd.read_csv('sub4_Slapping_processed.txt', sep=\"\\s+\", header = None)\n",
    "sub4_slapping_processed.columns = [\"R-Bic\", \"R-Tri\", \"L-Bic\", \"L-Tri\",\"R-Thi\", \"R-Ham\", \"L-Thi\", \"L-Ham\"]\n"
   ]
  },
  {
   "cell_type": "code",
   "execution_count": 4,
   "metadata": {},
   "outputs": [],
   "source": [
    "def stepwise_action_window_creator(df,window_size,step_size):\n",
    "    dflist = []\n",
    "    index = df.index.values\n",
    "    for i in range(0,len(index),step_size):\n",
    "        if(i > len(index) - window_size):\n",
    "            break;\n",
    "        else:\n",
    "            dflist.append(df.iloc[i:i+window_size])   \n",
    "    for i in range(0,len(dflist)):\n",
    "        index = dflist[i].index.values\n",
    "        dflist[i] = dflist[i].assign(time = range(index[-1]+1 - index[0]))\n",
    "        dflist[i] = dflist[i].assign(act_id = [i]*len(dflist[i]))\n",
    "    result = pd.concat(dflist)\n",
    "    return result\n"
   ]
  },
  {
   "cell_type": "code",
   "execution_count": 5,
   "metadata": {},
   "outputs": [],
   "source": [
    "subject1 = [sub1_handshaking_processed,sub1_punching_processed,sub1_seating_processed,sub1_standing_processed,sub1_pushing_processed,sub1_pulling_processed,sub1_slapping_processed,sub1_sidekicking_processed,sub1_frontkicking_processed,sub1_kneeing_processed,sub1_hammering_processed, sub1_hugging_processed,sub1_headering_processed,sub1_jumping_processed,sub1_bowing_processed,sub1_elbowing_processed,sub1_running_processed,sub1_walking_processed,sub1_clapping_processed,sub1_waving_processed]\n",
    "subject2 = [sub2_handshaking_processed,sub2_punching_processed,sub2_seating_processed,sub2_standing_processed,sub2_pushing_processed,sub2_pulling_processed,sub2_slapping_processed,sub2_sidekicking_processed,sub2_frontkicking_processed,sub2_kneeing_processed,sub2_hammering_processed, sub2_hugging_processed,sub2_headering_processed,sub2_jumping_processed,sub2_bowing_processed,sub2_elbowing_processed,sub2_running_processed,sub2_walking_processed,sub2_clapping_processed,sub2_waving_processed]\n",
    "subject3 = [sub3_handshaking_processed,sub3_punching_processed,sub3_seating_processed,sub3_standing_processed,sub3_pushing_processed,sub3_pulling_processed,sub3_slapping_processed,sub3_sidekicking_processed,sub3_frontkicking_processed,sub3_kneeing_processed,sub3_hammering_processed, sub3_hugging_processed,sub3_headering_processed,sub3_jumping_processed,sub3_bowing_processed,sub3_elbowing_processed,sub3_running_processed,sub3_walking_processed,sub3_clapping_processed,sub3_waving_processed]\n",
    "subject4 = [sub4_handshaking_processed,sub4_punching_processed,sub4_seating_processed,sub4_standing_processed,sub4_pushing_processed,sub4_pulling_processed,sub4_slapping_processed,sub4_sidekicking_processed,sub4_frontkicking_processed,sub4_kneeing_processed,sub4_hammering_processed, sub4_hugging_processed,sub4_headering_processed,sub4_jumping_processed,sub4_bowing_processed,sub4_elbowing_processed,sub4_running_processed,sub4_walking_processed,sub4_clapping_processed,sub4_waving_processed]\n"
   ]
  },
  {
   "cell_type": "code",
   "execution_count": 6,
   "metadata": {},
   "outputs": [],
   "source": [
    "sub1_handshake_stepdf = stepwise_action_window_creator(subject1[0],500,50)\n",
    "sub2_handshake_stepdf = stepwise_action_window_creator(subject2[0],500,50)\n",
    "sub3_handshake_stepdf = stepwise_action_window_creator(subject3[0],500,50)\n",
    "sub4_handshake_stepdf = stepwise_action_window_creator(subject4[0],500,50)\n",
    "\n",
    "sub1_punching_stepdf = stepwise_action_window_creator(subject1[1],500,50)\n",
    "sub2_punching_stepdf = stepwise_action_window_creator(subject2[1],500,50)\n",
    "sub3_punching_stepdf = stepwise_action_window_creator(subject3[1],500,50)\n",
    "sub4_punching_stepdf = stepwise_action_window_creator(subject4[1],500,50)\n",
    "\n",
    "sub1_seating_stepdf = stepwise_action_window_creator(subject1[2],500,50)\n",
    "sub2_seating_stepdf = stepwise_action_window_creator(subject2[2],500,50)\n",
    "sub3_seating_stepdf = stepwise_action_window_creator(subject3[2],500,50)\n",
    "sub4_seating_stepdf = stepwise_action_window_creator(subject4[2],500,50)\n",
    "\n",
    "sub1_standing_stepdf = stepwise_action_window_creator(subject1[3],500,50)\n",
    "sub2_standing_stepdf = stepwise_action_window_creator(subject2[3],500,50)\n",
    "sub3_standing_stepdf = stepwise_action_window_creator(subject3[3],500,50)\n",
    "sub4_standing_stepdf = stepwise_action_window_creator(subject4[3],500,50)\n",
    "\n",
    "sub1_pushing_stepdf = stepwise_action_window_creator(subject1[4],500,50)\n",
    "sub2_pushing_stepdf = stepwise_action_window_creator(subject2[4],500,50)\n",
    "sub3_pushing_stepdf = stepwise_action_window_creator(subject3[4],500,50)\n",
    "sub4_pushing_stepdf = stepwise_action_window_creator(subject4[4],500,50)\n",
    "\n",
    "sub1_pulling_stepdf = stepwise_action_window_creator(subject1[5],500,50)\n",
    "sub2_pulling_stepdf = stepwise_action_window_creator(subject2[5],500,50)\n",
    "sub3_pulling_stepdf = stepwise_action_window_creator(subject3[5],500,50)\n",
    "sub4_pulling_stepdf = stepwise_action_window_creator(subject4[5],500,50)\n",
    "\n",
    "sub1_slapping_stepdf = stepwise_action_window_creator(subject1[6],500,50)\n",
    "sub2_slapping_stepdf = stepwise_action_window_creator(subject2[6],500,50)\n",
    "sub3_slapping_stepdf = stepwise_action_window_creator(subject3[6],500,50)\n",
    "sub4_slapping_stepdf = stepwise_action_window_creator(subject4[6],500,50)\n",
    "\n",
    "sub1_sidekicking_stepdf = stepwise_action_window_creator(subject1[7],500,50)\n",
    "sub2_sidekicking_stepdf = stepwise_action_window_creator(subject2[7],500,50)\n",
    "sub3_sidekicking_stepdf = stepwise_action_window_creator(subject3[7],500,50)\n",
    "sub4_sidekicking_stepdf = stepwise_action_window_creator(subject4[7],500,50)\n",
    "\n",
    "sub1_frontkicking_stepdf = stepwise_action_window_creator(subject1[8],500,50)\n",
    "sub2_frontkicking_stepdf = stepwise_action_window_creator(subject2[8],500,50)\n",
    "sub3_frontkicking_stepdf = stepwise_action_window_creator(subject3[8],500,50)\n",
    "sub4_frontkicking_stepdf = stepwise_action_window_creator(subject4[8],500,50)\n",
    "\n",
    "sub1_kneeing_stepdf = stepwise_action_window_creator(subject1[9],500,50)\n",
    "sub2_kneeing_stepdf = stepwise_action_window_creator(subject2[9],500,50)\n",
    "sub3_kneeing_stepdf = stepwise_action_window_creator(subject3[9],500,50)\n",
    "sub4_kneeing_stepdf = stepwise_action_window_creator(subject4[9],500,50)\n",
    "\n",
    "sub1_hammering_stepdf = stepwise_action_window_creator(subject1[10],500,50)\n",
    "sub2_hammering_stepdf = stepwise_action_window_creator(subject2[10],500,50)\n",
    "sub3_hammering_stepdf = stepwise_action_window_creator(subject3[10],500,50)\n",
    "sub4_hammering_stepdf = stepwise_action_window_creator(subject4[10],500,50)\n",
    "\n",
    "sub1_hugging_stepdf = stepwise_action_window_creator(subject1[11],500,50)\n",
    "sub2_hugging_stepdf = stepwise_action_window_creator(subject2[11],500,50)\n",
    "sub3_hugging_stepdf = stepwise_action_window_creator(subject3[11],500,50)\n",
    "sub4_hugging_stepdf = stepwise_action_window_creator(subject4[11],500,50)\n",
    "\n",
    "sub1_headering_stepdf = stepwise_action_window_creator(subject1[12],500,50)\n",
    "sub2_headering_stepdf = stepwise_action_window_creator(subject2[12],500,50)\n",
    "sub3_headering_stepdf = stepwise_action_window_creator(subject3[12],500,50)\n",
    "sub4_headering_stepdf = stepwise_action_window_creator(subject4[12],500,50)\n",
    "\n",
    "sub1_jumping_stepdf = stepwise_action_window_creator(subject1[13],500,50)\n",
    "sub2_jumping_stepdf = stepwise_action_window_creator(subject2[13],500,50)\n",
    "sub3_jumping_stepdf = stepwise_action_window_creator(subject3[13],500,50)\n",
    "sub4_jumping_stepdf = stepwise_action_window_creator(subject4[13],500,50)\n",
    "\n",
    "sub1_bowing_stepdf = stepwise_action_window_creator(subject1[14],500,50)\n",
    "sub2_bowing_stepdf = stepwise_action_window_creator(subject2[14],500,50)\n",
    "sub3_bowing_stepdf = stepwise_action_window_creator(subject3[14],500,50)\n",
    "sub4_bowing_stepdf = stepwise_action_window_creator(subject4[14],500,50)\n",
    "\n",
    "sub1_elbowing_stepdf = stepwise_action_window_creator(subject1[15],500,50)\n",
    "sub2_elbowing_stepdf = stepwise_action_window_creator(subject2[15],500,50)\n",
    "sub3_elbowing_stepdf = stepwise_action_window_creator(subject3[15],500,50)\n",
    "sub4_elbowing_stepdf = stepwise_action_window_creator(subject4[15],500,50)\n",
    "\n",
    "sub1_running_stepdf = stepwise_action_window_creator(subject1[16],500,50)\n",
    "sub2_running_stepdf = stepwise_action_window_creator(subject2[16],500,50)\n",
    "sub3_running_stepdf = stepwise_action_window_creator(subject3[16],500,50)\n",
    "sub4_running_stepdf = stepwise_action_window_creator(subject4[16],500,50)\n",
    "\n",
    "sub1_walking_stepdf = stepwise_action_window_creator(subject1[17],500,50)\n",
    "sub2_walking_stepdf = stepwise_action_window_creator(subject2[17],500,50)\n",
    "sub3_walking_stepdf = stepwise_action_window_creator(subject3[17],500,50)\n",
    "sub4_walking_stepdf = stepwise_action_window_creator(subject4[17],500,50)\n",
    "\n",
    "sub1_clapping_stepdf = stepwise_action_window_creator(subject1[18],500,50)\n",
    "sub2_clapping_stepdf = stepwise_action_window_creator(subject2[18],500,50)\n",
    "sub3_clapping_stepdf = stepwise_action_window_creator(subject3[18],500,50)\n",
    "sub4_clapping_stepdf = stepwise_action_window_creator(subject4[18],500,50)\n",
    "\n",
    "sub1_waving_stepdf = stepwise_action_window_creator(subject1[19],500,50)\n",
    "sub2_waving_stepdf = stepwise_action_window_creator(subject2[19],500,50)\n",
    "sub3_waving_stepdf = stepwise_action_window_creator(subject3[19],500,50)\n",
    "sub4_waving_stepdf = stepwise_action_window_creator(subject4[19],500,50)\n",
    "\n",
    "\n"
   ]
  },
  {
   "cell_type": "code",
   "execution_count": 8,
   "metadata": {},
   "outputs": [],
   "source": [
    "extraction_settings = EfficientFCParameters()"
   ]
  },
  {
   "cell_type": "code",
   "execution_count": 9,
   "metadata": {},
   "outputs": [
    {
     "name": "stderr",
     "output_type": "stream",
     "text": [
      "Feature Extraction: 20it [03:52, 11.60s/it]                                                                            \n"
     ]
    }
   ],
   "source": [
    "sub1_handshake_features = extract_features(sub1_handshake_stepdf, \n",
    "                     column_id='act_id', column_sort='time',n_jobs = 4,\n",
    "                     default_fc_parameters=extraction_settings,\n",
    "                     impute_function= impute)\n"
   ]
  },
  {
   "cell_type": "code",
   "execution_count": 10,
   "metadata": {},
   "outputs": [],
   "source": [
    "sub1_handshake_features.to_csv('sub1_handshake_processed_normalized_features.csv')"
   ]
  },
  {
   "cell_type": "code",
   "execution_count": 11,
   "metadata": {},
   "outputs": [
    {
     "name": "stderr",
     "output_type": "stream",
     "text": [
      "Feature Extraction: 20it [05:47, 17.36s/it]                                                                            \n"
     ]
    }
   ],
   "source": [
    "sub2_handshake_features = extract_features(sub2_handshake_stepdf, \n",
    "                     column_id='act_id', column_sort='time',n_jobs = 4,\n",
    "                     default_fc_parameters=extraction_settings,\n",
    "                     impute_function= impute)\n",
    "sub2_handshake_features.to_csv('sub2_handshake_processed_normalized_features.csv')"
   ]
  },
  {
   "cell_type": "code",
   "execution_count": 12,
   "metadata": {},
   "outputs": [
    {
     "name": "stderr",
     "output_type": "stream",
     "text": [
      "Feature Extraction: 20it [07:59, 23.99s/it]                                                                            \n"
     ]
    }
   ],
   "source": [
    "sub3_handshake_features = extract_features(sub3_handshake_stepdf, \n",
    "                     column_id='act_id', column_sort='time',n_jobs = 4,\n",
    "                     default_fc_parameters=extraction_settings,\n",
    "                     impute_function= impute)\n",
    "sub3_handshake_features.to_csv('sub3_handshake_processed_normalized_features.csv')"
   ]
  },
  {
   "cell_type": "code",
   "execution_count": 13,
   "metadata": {},
   "outputs": [
    {
     "name": "stderr",
     "output_type": "stream",
     "text": [
      "Feature Extraction: 20it [07:59, 23.96s/it]                                                                            \n"
     ]
    }
   ],
   "source": [
    "sub4_handshake_features = extract_features(sub4_handshake_stepdf, \n",
    "                     column_id='act_id', column_sort='time',n_jobs = 4,\n",
    "                     default_fc_parameters=extraction_settings,\n",
    "                     impute_function= impute)\n",
    "sub4_handshake_features.to_csv('sub4_handshake_processed_normalized_features.csv')"
   ]
  },
  {
   "cell_type": "code",
   "execution_count": 14,
   "metadata": {},
   "outputs": [
    {
     "name": "stderr",
     "output_type": "stream",
     "text": [
      "Feature Extraction: 20it [06:58, 20.92s/it]                                                                            \n"
     ]
    }
   ],
   "source": [
    "sub1_punching_features = extract_features(sub1_punching_stepdf, \n",
    "                     column_id='act_id', column_sort='time',n_jobs = 4,\n",
    "                     default_fc_parameters=extraction_settings,\n",
    "                     impute_function= impute)\n",
    "sub1_punching_features.to_csv('sub1_punching_processed_normalized_features.csv')"
   ]
  },
  {
   "cell_type": "code",
   "execution_count": 15,
   "metadata": {},
   "outputs": [
    {
     "name": "stderr",
     "output_type": "stream",
     "text": [
      "Feature Extraction: 20it [07:17, 21.90s/it]                                                                            \n"
     ]
    }
   ],
   "source": [
    "sub2_punching_features = extract_features(sub2_punching_stepdf, \n",
    "                     column_id='act_id', column_sort='time',n_jobs = 4,\n",
    "                     default_fc_parameters=extraction_settings,\n",
    "                     impute_function= impute)\n",
    "sub2_punching_features.to_csv('sub2_punching_processed_normalized_features.csv')"
   ]
  },
  {
   "cell_type": "code",
   "execution_count": 16,
   "metadata": {},
   "outputs": [
    {
     "name": "stderr",
     "output_type": "stream",
     "text": [
      "Feature Extraction: 100%|██████████████████████████████████████████████████████████████| 20/20 [06:45<00:00, 20.29s/it]\n"
     ]
    }
   ],
   "source": [
    "sub3_punching_features = extract_features(sub3_punching_stepdf, \n",
    "                     column_id='act_id', column_sort='time',n_jobs = 4,\n",
    "                     default_fc_parameters=extraction_settings,\n",
    "                     impute_function= impute)\n",
    "sub3_punching_features.to_csv('sub3_punching_processed_normalized_features.csv')"
   ]
  },
  {
   "cell_type": "code",
   "execution_count": 17,
   "metadata": {},
   "outputs": [
    {
     "name": "stderr",
     "output_type": "stream",
     "text": [
      "Feature Extraction: 20it [06:52, 20.61s/it]                                                                            \n"
     ]
    }
   ],
   "source": [
    "sub4_punching_features = extract_features(sub4_punching_stepdf, \n",
    "                     column_id='act_id', column_sort='time',n_jobs = 4,\n",
    "                     default_fc_parameters=extraction_settings,\n",
    "                     impute_function= impute)\n",
    "sub4_punching_features.to_csv('sub4_punching_processed_normalized_features.csv')"
   ]
  },
  {
   "cell_type": "code",
   "execution_count": 18,
   "metadata": {},
   "outputs": [
    {
     "name": "stderr",
     "output_type": "stream",
     "text": [
      "Feature Extraction: 20it [07:05, 21.29s/it]                                                                            \n"
     ]
    }
   ],
   "source": [
    "sub1_seating_features = extract_features(sub1_seating_stepdf, \n",
    "                     column_id='act_id', column_sort='time',n_jobs = 4,\n",
    "                     default_fc_parameters=extraction_settings,\n",
    "                     impute_function= impute)\n",
    "sub1_seating_features.to_csv('sub1_seating_processed_normalized_features.csv')"
   ]
  },
  {
   "cell_type": "code",
   "execution_count": 19,
   "metadata": {},
   "outputs": [
    {
     "name": "stderr",
     "output_type": "stream",
     "text": [
      "Feature Extraction: 20it [06:27, 19.36s/it]                                                                            \n"
     ]
    }
   ],
   "source": [
    "sub2_seating_features = extract_features(sub2_seating_stepdf, \n",
    "                     column_id='act_id', column_sort='time',n_jobs = 4,\n",
    "                     default_fc_parameters=extraction_settings,\n",
    "                     impute_function= impute)\n",
    "sub2_seating_features.to_csv('sub2_seating_processed_normalized_features.csv')"
   ]
  },
  {
   "cell_type": "code",
   "execution_count": 20,
   "metadata": {},
   "outputs": [
    {
     "name": "stderr",
     "output_type": "stream",
     "text": [
      "Feature Extraction: 20it [06:29, 19.46s/it]                                                                            \n"
     ]
    }
   ],
   "source": [
    "sub3_seating_features = extract_features(sub3_seating_stepdf, \n",
    "                     column_id='act_id', column_sort='time',n_jobs = 4,\n",
    "                     default_fc_parameters=extraction_settings,\n",
    "                     impute_function= impute)\n",
    "sub3_seating_features.to_csv('sub3_seating_processed_normalized_features.csv')"
   ]
  },
  {
   "cell_type": "code",
   "execution_count": 21,
   "metadata": {},
   "outputs": [
    {
     "name": "stderr",
     "output_type": "stream",
     "text": [
      "Feature Extraction: 100%|██████████████████████████████████████████████████████████████| 20/20 [06:57<00:00, 20.90s/it]\n"
     ]
    }
   ],
   "source": [
    "sub4_seating_features = extract_features(sub4_seating_stepdf, \n",
    "                     column_id='act_id', column_sort='time',n_jobs = 4,\n",
    "                     default_fc_parameters=extraction_settings,\n",
    "                     impute_function= impute)\n",
    "sub4_seating_features.to_csv('sub4_seating_processed_normalized_features.csv')"
   ]
  },
  {
   "cell_type": "code",
   "execution_count": 22,
   "metadata": {},
   "outputs": [
    {
     "name": "stderr",
     "output_type": "stream",
     "text": [
      "Feature Extraction: 100%|██████████████████████████████████████████████████████████████| 20/20 [06:48<00:00, 20.42s/it]\n"
     ]
    }
   ],
   "source": [
    "sub1_standing_features = extract_features(sub1_standing_stepdf, \n",
    "                     column_id='act_id', column_sort='time',n_jobs = 4,\n",
    "                     default_fc_parameters=extraction_settings,\n",
    "                     impute_function= impute)\n",
    "sub1_standing_features.to_csv('sub1_standing_processed_normalized_features.csv')"
   ]
  },
  {
   "cell_type": "code",
   "execution_count": 23,
   "metadata": {},
   "outputs": [
    {
     "name": "stderr",
     "output_type": "stream",
     "text": [
      "Feature Extraction: 20it [07:04, 21.21s/it]                                                                            \n"
     ]
    }
   ],
   "source": [
    "sub2_standing_features = extract_features(sub2_standing_stepdf, \n",
    "                     column_id='act_id', column_sort='time',n_jobs = 4,\n",
    "                     default_fc_parameters=extraction_settings,\n",
    "                     impute_function= impute)\n",
    "sub2_standing_features.to_csv('sub2_standing_processed_normalized_features.csv')"
   ]
  },
  {
   "cell_type": "code",
   "execution_count": 24,
   "metadata": {},
   "outputs": [
    {
     "name": "stderr",
     "output_type": "stream",
     "text": [
      "Feature Extraction: 20it [06:30, 19.51s/it]                                                                            \n"
     ]
    }
   ],
   "source": [
    "sub3_standing_features = extract_features(sub3_standing_stepdf, \n",
    "                     column_id='act_id', column_sort='time',n_jobs = 4,\n",
    "                     default_fc_parameters=extraction_settings,\n",
    "                     impute_function= impute)\n",
    "sub3_standing_features.to_csv('sub3_standing_processed_normalized_features.csv')"
   ]
  },
  {
   "cell_type": "code",
   "execution_count": 25,
   "metadata": {},
   "outputs": [
    {
     "name": "stderr",
     "output_type": "stream",
     "text": [
      "Feature Extraction: 20it [06:25, 19.28s/it]                                                                            \n"
     ]
    }
   ],
   "source": [
    "sub4_standing_features = extract_features(sub4_standing_stepdf, \n",
    "                     column_id='act_id', column_sort='time',n_jobs = 4,\n",
    "                     default_fc_parameters=extraction_settings,\n",
    "                     impute_function= impute)\n",
    "sub4_standing_features.to_csv('sub4_standing_processed_normalized_features.csv')"
   ]
  },
  {
   "cell_type": "code",
   "execution_count": 26,
   "metadata": {},
   "outputs": [
    {
     "name": "stderr",
     "output_type": "stream",
     "text": [
      "Feature Extraction: 20it [07:34, 22.72s/it]                                                                            \n"
     ]
    }
   ],
   "source": [
    "sub1_pushing_features = extract_features(sub1_pushing_stepdf, \n",
    "                     column_id='act_id', column_sort='time',n_jobs = 4,\n",
    "                     default_fc_parameters=extraction_settings,\n",
    "                     impute_function= impute)\n",
    "sub1_pushing_features.to_csv('sub1_pushing_processed_normalized_features.csv')"
   ]
  },
  {
   "cell_type": "code",
   "execution_count": 27,
   "metadata": {},
   "outputs": [
    {
     "name": "stderr",
     "output_type": "stream",
     "text": [
      "Feature Extraction: 20it [07:57, 23.90s/it]                                                                            \n"
     ]
    }
   ],
   "source": [
    "sub2_pushing_features = extract_features(sub2_pushing_stepdf, \n",
    "                     column_id='act_id', column_sort='time',n_jobs = 4,\n",
    "                     default_fc_parameters=extraction_settings,\n",
    "                     impute_function= impute)\n",
    "sub2_pushing_features.to_csv('sub2_pushing_processed_normalized_features.csv')"
   ]
  },
  {
   "cell_type": "code",
   "execution_count": 28,
   "metadata": {},
   "outputs": [
    {
     "name": "stderr",
     "output_type": "stream",
     "text": [
      "Feature Extraction: 20it [07:13, 21.70s/it]                                                                            \n"
     ]
    }
   ],
   "source": [
    "sub3_pushing_features = extract_features(sub3_pushing_stepdf, \n",
    "                     column_id='act_id', column_sort='time',n_jobs = 4,\n",
    "                     default_fc_parameters=extraction_settings,\n",
    "                     impute_function= impute)\n",
    "sub3_pushing_features.to_csv('sub3_pushing_processed_normalized_features.csv')"
   ]
  },
  {
   "cell_type": "code",
   "execution_count": 29,
   "metadata": {},
   "outputs": [
    {
     "name": "stderr",
     "output_type": "stream",
     "text": [
      "Feature Extraction: 20it [06:33, 19.69s/it]                                                                            \n"
     ]
    }
   ],
   "source": [
    "sub4_pushing_features = extract_features(sub4_pushing_stepdf, \n",
    "                     column_id='act_id', column_sort='time',n_jobs = 4,\n",
    "                     default_fc_parameters=extraction_settings,\n",
    "                     impute_function= impute)\n",
    "sub4_pushing_features.to_csv('sub4_pushing_processed_normalized_features.csv')"
   ]
  },
  {
   "cell_type": "code",
   "execution_count": 30,
   "metadata": {},
   "outputs": [
    {
     "name": "stderr",
     "output_type": "stream",
     "text": [
      "Feature Extraction: 20it [06:32, 19.64s/it]                                                                            \n"
     ]
    }
   ],
   "source": [
    "sub1_pulling_features = extract_features(sub1_pulling_stepdf, \n",
    "                     column_id='act_id', column_sort='time',n_jobs = 4,\n",
    "                     default_fc_parameters=extraction_settings,\n",
    "                     impute_function= impute)\n",
    "sub1_pulling_features.to_csv('sub1_pulling_processed_normalized_features.csv')"
   ]
  },
  {
   "cell_type": "code",
   "execution_count": 31,
   "metadata": {},
   "outputs": [
    {
     "name": "stderr",
     "output_type": "stream",
     "text": [
      "Feature Extraction: 20it [07:47, 23.37s/it]                                                                            \n"
     ]
    }
   ],
   "source": [
    "sub2_pulling_features = extract_features(sub2_pulling_stepdf, \n",
    "                     column_id='act_id', column_sort='time',n_jobs = 4,\n",
    "                     default_fc_parameters=extraction_settings,\n",
    "                     impute_function= impute)\n",
    "sub2_pulling_features.to_csv('sub2_pulling_processed_normalized_features.csv')"
   ]
  },
  {
   "cell_type": "code",
   "execution_count": 32,
   "metadata": {},
   "outputs": [
    {
     "name": "stderr",
     "output_type": "stream",
     "text": [
      "Feature Extraction: 20it [07:13, 21.68s/it]                                                                            \n"
     ]
    }
   ],
   "source": [
    "sub3_pulling_features = extract_features(sub3_pulling_stepdf, \n",
    "                     column_id='act_id', column_sort='time',n_jobs = 4,\n",
    "                     default_fc_parameters=extraction_settings,\n",
    "                     impute_function= impute)\n",
    "sub3_pulling_features.to_csv('sub3_pulling_processed_normalized_features.csv')"
   ]
  },
  {
   "cell_type": "code",
   "execution_count": 33,
   "metadata": {},
   "outputs": [
    {
     "name": "stderr",
     "output_type": "stream",
     "text": [
      "Feature Extraction: 20it [06:58, 20.91s/it]                                                                            \n"
     ]
    }
   ],
   "source": [
    "sub4_pulling_features = extract_features(sub4_pulling_stepdf, \n",
    "                     column_id='act_id', column_sort='time',n_jobs = 4,\n",
    "                     default_fc_parameters=extraction_settings,\n",
    "                     impute_function= impute)\n",
    "sub4_pulling_features.to_csv('sub4_pulling_processed_normalized_features.csv')"
   ]
  },
  {
   "cell_type": "code",
   "execution_count": 34,
   "metadata": {},
   "outputs": [
    {
     "name": "stderr",
     "output_type": "stream",
     "text": [
      "Feature Extraction: 20it [06:25, 19.29s/it]                                                                            \n"
     ]
    }
   ],
   "source": [
    "sub1_slapping_features = extract_features(sub1_slapping_stepdf, \n",
    "                     column_id='act_id', column_sort='time',n_jobs = 4,\n",
    "                     default_fc_parameters=extraction_settings,\n",
    "                     impute_function= impute)\n",
    "sub1_slapping_features.to_csv('sub1_slapping_processed_normalized_features.csv')"
   ]
  },
  {
   "cell_type": "code",
   "execution_count": 35,
   "metadata": {},
   "outputs": [
    {
     "name": "stderr",
     "output_type": "stream",
     "text": [
      "Feature Extraction: 20it [06:50, 20.52s/it]                                                                            \n"
     ]
    }
   ],
   "source": [
    "sub2_slapping_features = extract_features(sub2_slapping_stepdf, \n",
    "                     column_id='act_id', column_sort='time',n_jobs = 4,\n",
    "                     default_fc_parameters=extraction_settings,\n",
    "                     impute_function= impute)\n",
    "sub2_slapping_features.to_csv('sub2_slapping_processed_normalized_features.csv')"
   ]
  },
  {
   "cell_type": "code",
   "execution_count": 36,
   "metadata": {},
   "outputs": [
    {
     "name": "stderr",
     "output_type": "stream",
     "text": [
      "Feature Extraction: 20it [07:04, 21.21s/it]                                                                            \n"
     ]
    }
   ],
   "source": [
    "sub3_slapping_features = extract_features(sub3_slapping_stepdf, \n",
    "                     column_id='act_id', column_sort='time',n_jobs = 4,\n",
    "                     default_fc_parameters=extraction_settings,\n",
    "                     impute_function= impute)\n",
    "sub3_slapping_features.to_csv('sub3_slapping_processed_normalized_features.csv')"
   ]
  },
  {
   "cell_type": "code",
   "execution_count": 37,
   "metadata": {},
   "outputs": [
    {
     "name": "stderr",
     "output_type": "stream",
     "text": [
      "Feature Extraction: 20it [07:34, 22.71s/it]                                                                            \n"
     ]
    }
   ],
   "source": [
    "sub4_slapping_features = extract_features(sub4_slapping_stepdf, \n",
    "                     column_id='act_id', column_sort='time',n_jobs = 4,\n",
    "                     default_fc_parameters=extraction_settings,\n",
    "                     impute_function= impute)\n",
    "sub4_slapping_features.to_csv('sub4_slapping_processed_normalized_features.csv')"
   ]
  },
  {
   "cell_type": "code",
   "execution_count": 38,
   "metadata": {},
   "outputs": [
    {
     "name": "stderr",
     "output_type": "stream",
     "text": [
      "Feature Extraction: 20it [07:04, 21.23s/it]                                                                            \n"
     ]
    }
   ],
   "source": [
    "sub1_sidekicking_features = extract_features(sub1_sidekicking_stepdf, \n",
    "                     column_id='act_id', column_sort='time',n_jobs = 4,\n",
    "                     default_fc_parameters=extraction_settings,\n",
    "                     impute_function= impute)\n",
    "sub1_sidekicking_features.to_csv('sub1_sidekicking_processed_normalized_features.csv')"
   ]
  },
  {
   "cell_type": "code",
   "execution_count": 39,
   "metadata": {},
   "outputs": [
    {
     "name": "stderr",
     "output_type": "stream",
     "text": [
      "Feature Extraction: 20it [07:50, 23.51s/it]                                                                            \n"
     ]
    }
   ],
   "source": [
    "sub2_sidekicking_features = extract_features(sub2_sidekicking_stepdf, \n",
    "                     column_id='act_id', column_sort='time',n_jobs = 4,\n",
    "                     default_fc_parameters=extraction_settings,\n",
    "                     impute_function= impute)\n",
    "sub2_sidekicking_features.to_csv('sub2_sidekicking_processed_normalized_features.csv')"
   ]
  },
  {
   "cell_type": "code",
   "execution_count": 40,
   "metadata": {},
   "outputs": [
    {
     "name": "stderr",
     "output_type": "stream",
     "text": [
      "Feature Extraction: 20it [07:39, 22.97s/it]                                                                            \n"
     ]
    }
   ],
   "source": [
    "sub3_sidekicking_features = extract_features(sub3_sidekicking_stepdf, \n",
    "                     column_id='act_id', column_sort='time',n_jobs = 4,\n",
    "                     default_fc_parameters=extraction_settings,\n",
    "                     impute_function= impute)\n",
    "sub3_sidekicking_features.to_csv('sub3_sidekicking_processed_normalized_features.csv')"
   ]
  },
  {
   "cell_type": "code",
   "execution_count": 41,
   "metadata": {},
   "outputs": [
    {
     "name": "stderr",
     "output_type": "stream",
     "text": [
      "Feature Extraction: 20it [07:03, 21.20s/it]                                                                            \n"
     ]
    }
   ],
   "source": [
    "sub4_sidekicking_features = extract_features(sub4_sidekicking_stepdf, \n",
    "                     column_id='act_id', column_sort='time',n_jobs = 4,\n",
    "                     default_fc_parameters=extraction_settings,\n",
    "                     impute_function= impute)\n",
    "sub4_sidekicking_features.to_csv('sub4_sidekicking_processed_normalized_features.csv')"
   ]
  },
  {
   "cell_type": "code",
   "execution_count": 42,
   "metadata": {},
   "outputs": [
    {
     "name": "stderr",
     "output_type": "stream",
     "text": [
      "Feature Extraction: 20it [07:05, 21.30s/it]                                                                            \n"
     ]
    }
   ],
   "source": [
    "sub1_frontkicking_features = extract_features(sub1_frontkicking_stepdf, \n",
    "                     column_id='act_id', column_sort='time',n_jobs = 4,\n",
    "                     default_fc_parameters=extraction_settings,\n",
    "                     impute_function= impute)\n",
    "sub1_frontkicking_features.to_csv('sub1_frontkicking_processed_normalized_features.csv')"
   ]
  },
  {
   "cell_type": "code",
   "execution_count": 43,
   "metadata": {
    "scrolled": true
   },
   "outputs": [
    {
     "name": "stderr",
     "output_type": "stream",
     "text": [
      "Feature Extraction: 20it [07:10, 21.50s/it]                                                                            \n"
     ]
    }
   ],
   "source": [
    "sub2_frontkicking_features = extract_features(sub2_frontkicking_stepdf, \n",
    "                     column_id='act_id', column_sort='time',n_jobs = 4,\n",
    "                     default_fc_parameters=extraction_settings,\n",
    "                     impute_function= impute)\n",
    "sub2_frontkicking_features.to_csv('sub2_frontkicking_processed_normalized_features.csv')"
   ]
  },
  {
   "cell_type": "code",
   "execution_count": 44,
   "metadata": {},
   "outputs": [
    {
     "name": "stderr",
     "output_type": "stream",
     "text": [
      "Feature Extraction: 100%|██████████████████████████████████████████████████████████████| 20/20 [06:37<00:00, 19.89s/it]\n"
     ]
    }
   ],
   "source": [
    "sub3_frontkicking_features = extract_features(sub3_frontkicking_stepdf, \n",
    "                     column_id='act_id', column_sort='time',n_jobs = 4,\n",
    "                     default_fc_parameters=extraction_settings,\n",
    "                     impute_function= impute)\n",
    "sub3_frontkicking_features.to_csv('sub3_frontkicking_processed_normalized_features.csv')"
   ]
  },
  {
   "cell_type": "code",
   "execution_count": 45,
   "metadata": {},
   "outputs": [
    {
     "name": "stderr",
     "output_type": "stream",
     "text": [
      "Feature Extraction: 20it [06:33, 19.70s/it]                                                                            \n"
     ]
    }
   ],
   "source": [
    "sub4_frontkicking_features = extract_features(sub4_frontkicking_stepdf, \n",
    "                     column_id='act_id', column_sort='time',n_jobs = 4,\n",
    "                     default_fc_parameters=extraction_settings,\n",
    "                     impute_function= impute)\n",
    "sub4_frontkicking_features.to_csv('sub4_frontkicking_processed_normalized_features.csv')"
   ]
  },
  {
   "cell_type": "code",
   "execution_count": 46,
   "metadata": {},
   "outputs": [
    {
     "name": "stderr",
     "output_type": "stream",
     "text": [
      "Feature Extraction: 20it [07:16, 21.82s/it]                                                                            \n"
     ]
    }
   ],
   "source": [
    "sub1_kneeing_features = extract_features(sub1_kneeing_stepdf, \n",
    "                     column_id='act_id', column_sort='time',n_jobs = 4,\n",
    "                     default_fc_parameters=extraction_settings,\n",
    "                     impute_function= impute)\n",
    "sub1_kneeing_features.to_csv('sub1_kneeing_processed_normalized_features.csv')"
   ]
  },
  {
   "cell_type": "code",
   "execution_count": 47,
   "metadata": {},
   "outputs": [
    {
     "name": "stderr",
     "output_type": "stream",
     "text": [
      "Feature Extraction: 20it [07:30, 22.53s/it]                                                                            \n"
     ]
    }
   ],
   "source": [
    "sub2_kneeing_features = extract_features(sub2_kneeing_stepdf, \n",
    "                     column_id='act_id', column_sort='time',n_jobs = 4,\n",
    "                     default_fc_parameters=extraction_settings,\n",
    "                     impute_function= impute)\n",
    "sub2_kneeing_features.to_csv('sub2_kneeing_processed_normalized_features.csv')"
   ]
  },
  {
   "cell_type": "code",
   "execution_count": 48,
   "metadata": {},
   "outputs": [
    {
     "name": "stderr",
     "output_type": "stream",
     "text": [
      "Feature Extraction: 100%|██████████████████████████████████████████████████████████████| 20/20 [06:42<00:00, 20.13s/it]\n"
     ]
    }
   ],
   "source": [
    "sub3_kneeing_features = extract_features(sub3_kneeing_stepdf, \n",
    "                     column_id='act_id', column_sort='time',n_jobs = 4,\n",
    "                     default_fc_parameters=extraction_settings,\n",
    "                     impute_function= impute)\n",
    "sub3_kneeing_features.to_csv('sub3_kneeing_processed_normalized_features.csv')"
   ]
  },
  {
   "cell_type": "code",
   "execution_count": 49,
   "metadata": {},
   "outputs": [
    {
     "name": "stderr",
     "output_type": "stream",
     "text": [
      "Feature Extraction: 20it [07:27, 22.36s/it]                                                                            \n"
     ]
    }
   ],
   "source": [
    "sub4_kneeing_features = extract_features(sub4_kneeing_stepdf, \n",
    "                     column_id='act_id', column_sort='time',n_jobs = 4,\n",
    "                     default_fc_parameters=extraction_settings,\n",
    "                     impute_function= impute)\n",
    "sub4_kneeing_features.to_csv('sub4_kneeing_processed_normalized_features.csv')"
   ]
  },
  {
   "cell_type": "code",
   "execution_count": 50,
   "metadata": {},
   "outputs": [
    {
     "name": "stderr",
     "output_type": "stream",
     "text": [
      "Feature Extraction: 20it [06:30, 19.50s/it]                                                                            \n"
     ]
    }
   ],
   "source": [
    "sub1_hammering_features = extract_features(sub1_hammering_stepdf, \n",
    "                     column_id='act_id', column_sort='time',n_jobs = 4,\n",
    "                     default_fc_parameters=extraction_settings,\n",
    "                     impute_function= impute)\n",
    "sub1_hammering_features.to_csv('sub1_hammering_processed_normalized_features.csv')"
   ]
  },
  {
   "cell_type": "code",
   "execution_count": 51,
   "metadata": {},
   "outputs": [
    {
     "name": "stderr",
     "output_type": "stream",
     "text": [
      "Feature Extraction: 20it [06:53, 20.68s/it]                                                                            \n"
     ]
    }
   ],
   "source": [
    "sub2_hammering_features = extract_features(sub2_hammering_stepdf, \n",
    "                     column_id='act_id', column_sort='time',n_jobs = 4,\n",
    "                     default_fc_parameters=extraction_settings,\n",
    "                     impute_function= impute)\n",
    "sub2_hammering_features.to_csv('sub2_hammering_processed_normalized_features.csv')"
   ]
  },
  {
   "cell_type": "code",
   "execution_count": 52,
   "metadata": {},
   "outputs": [
    {
     "name": "stderr",
     "output_type": "stream",
     "text": [
      "Feature Extraction: 20it [1:09:59, 209.98s/it]                                                                         \n"
     ]
    }
   ],
   "source": [
    "sub3_hammering_features = extract_features(sub3_hammering_stepdf, \n",
    "                     column_id='act_id', column_sort='time',n_jobs = 4,\n",
    "                     default_fc_parameters=extraction_settings,\n",
    "                     impute_function= impute)\n",
    "sub3_hammering_features.to_csv('sub3_hammering_processed_normalized_features.csv')"
   ]
  },
  {
   "cell_type": "code",
   "execution_count": 53,
   "metadata": {},
   "outputs": [
    {
     "name": "stderr",
     "output_type": "stream",
     "text": [
      "Feature Extraction: 20it [07:17, 21.90s/it]                                                                            \n"
     ]
    }
   ],
   "source": [
    "sub4_hammering_features = extract_features(sub4_hammering_stepdf, \n",
    "                     column_id='act_id', column_sort='time',n_jobs = 4,\n",
    "                     default_fc_parameters=extraction_settings,\n",
    "                     impute_function= impute)\n",
    "sub4_hammering_features.to_csv('sub4_hammering_processed_normalized_features.csv')"
   ]
  },
  {
   "cell_type": "code",
   "execution_count": 54,
   "metadata": {},
   "outputs": [
    {
     "name": "stderr",
     "output_type": "stream",
     "text": [
      "Feature Extraction: 20it [06:57, 20.90s/it]                                                                            \n"
     ]
    }
   ],
   "source": [
    "sub1_hugging_features = extract_features(sub1_hugging_stepdf, \n",
    "                     column_id='act_id', column_sort='time',n_jobs = 4,\n",
    "                     default_fc_parameters=extraction_settings,\n",
    "                     impute_function= impute)\n",
    "sub1_hugging_features.to_csv('sub1_hugging_processed_normalized_features.csv')"
   ]
  },
  {
   "cell_type": "code",
   "execution_count": 55,
   "metadata": {},
   "outputs": [
    {
     "name": "stderr",
     "output_type": "stream",
     "text": [
      "Feature Extraction: 20it [07:24, 22.23s/it]                                                                            \n"
     ]
    }
   ],
   "source": [
    "sub2_hugging_features = extract_features(sub2_hugging_stepdf, \n",
    "                     column_id='act_id', column_sort='time',n_jobs = 4,\n",
    "                     default_fc_parameters=extraction_settings,\n",
    "                     impute_function= impute)\n",
    "sub2_hugging_features.to_csv('sub2_hugging_processed_normalized_features.csv')"
   ]
  },
  {
   "cell_type": "code",
   "execution_count": 56,
   "metadata": {},
   "outputs": [
    {
     "name": "stderr",
     "output_type": "stream",
     "text": [
      "Feature Extraction: 20it [06:55, 20.75s/it]                                                                            \n"
     ]
    }
   ],
   "source": [
    "sub3_hugging_features = extract_features(sub3_hugging_stepdf, \n",
    "                     column_id='act_id', column_sort='time',n_jobs = 4,\n",
    "                     default_fc_parameters=extraction_settings,\n",
    "                     impute_function= impute)\n",
    "sub3_hugging_features.to_csv('sub3_hugging_processed_normalized_features.csv')"
   ]
  },
  {
   "cell_type": "code",
   "execution_count": 57,
   "metadata": {},
   "outputs": [
    {
     "name": "stderr",
     "output_type": "stream",
     "text": [
      "Feature Extraction: 20it [06:39, 19.96s/it]                                                                            \n"
     ]
    }
   ],
   "source": [
    "sub4_hugging_features = extract_features(sub4_hugging_stepdf, \n",
    "                     column_id='act_id', column_sort='time',n_jobs = 4,\n",
    "                     default_fc_parameters=extraction_settings,\n",
    "                     impute_function= impute)\n",
    "sub4_hugging_features.to_csv('sub4_hugging_processed_normalized_features.csv')"
   ]
  },
  {
   "cell_type": "code",
   "execution_count": 58,
   "metadata": {},
   "outputs": [
    {
     "name": "stderr",
     "output_type": "stream",
     "text": [
      "Feature Extraction: 20it [07:19, 21.98s/it]                                                                            \n"
     ]
    }
   ],
   "source": [
    "sub1_headering_features = extract_features(sub1_headering_stepdf, \n",
    "                     column_id='act_id', column_sort='time',n_jobs = 4,\n",
    "                     default_fc_parameters=extraction_settings,\n",
    "                     impute_function= impute)\n",
    "sub1_headering_features.to_csv('sub1_headering_processed_normalized_features.csv')"
   ]
  },
  {
   "cell_type": "code",
   "execution_count": 59,
   "metadata": {},
   "outputs": [
    {
     "name": "stderr",
     "output_type": "stream",
     "text": [
      "Feature Extraction: 20it [08:15, 24.76s/it]                                                                            \n"
     ]
    }
   ],
   "source": [
    "sub2_headering_features = extract_features(sub2_headering_stepdf, \n",
    "                     column_id='act_id', column_sort='time',n_jobs = 4,\n",
    "                     default_fc_parameters=extraction_settings,\n",
    "                     impute_function= impute)\n",
    "sub2_headering_features.to_csv('sub2_headering_processed_normalized_features.csv')"
   ]
  },
  {
   "cell_type": "code",
   "execution_count": 60,
   "metadata": {},
   "outputs": [
    {
     "name": "stderr",
     "output_type": "stream",
     "text": [
      "Feature Extraction: 20it [06:52, 20.62s/it]                                                                            \n"
     ]
    }
   ],
   "source": [
    "sub3_headering_features = extract_features(sub3_headering_stepdf, \n",
    "                     column_id='act_id', column_sort='time',n_jobs = 4,\n",
    "                     default_fc_parameters=extraction_settings,\n",
    "                     impute_function= impute)\n",
    "sub3_headering_features.to_csv('sub3_headering_processed_normalized_features.csv')"
   ]
  },
  {
   "cell_type": "code",
   "execution_count": 61,
   "metadata": {},
   "outputs": [
    {
     "name": "stderr",
     "output_type": "stream",
     "text": [
      "Feature Extraction: 20it [06:05, 18.30s/it]                                                                            \n"
     ]
    }
   ],
   "source": [
    "sub4_headering_features = extract_features(sub4_headering_stepdf, \n",
    "                     column_id='act_id', column_sort='time',n_jobs = 4,\n",
    "                     default_fc_parameters=extraction_settings,\n",
    "                     impute_function= impute)\n",
    "sub4_headering_features.to_csv('sub4_headering_processed_normalized_features.csv')"
   ]
  },
  {
   "cell_type": "code",
   "execution_count": 62,
   "metadata": {},
   "outputs": [
    {
     "name": "stderr",
     "output_type": "stream",
     "text": [
      "Feature Extraction: 20it [06:41, 20.05s/it]                                                                            \n"
     ]
    }
   ],
   "source": [
    "sub1_jumping_features = extract_features(sub1_jumping_stepdf, \n",
    "                     column_id='act_id', column_sort='time',n_jobs = 4,\n",
    "                     default_fc_parameters=extraction_settings,\n",
    "                     impute_function= impute)\n",
    "sub1_jumping_features.to_csv('sub1_jumping_processed_normalized_features.csv')"
   ]
  },
  {
   "cell_type": "code",
   "execution_count": 63,
   "metadata": {},
   "outputs": [
    {
     "name": "stderr",
     "output_type": "stream",
     "text": [
      "Feature Extraction: 20it [07:23, 22.16s/it]                                                                            \n"
     ]
    }
   ],
   "source": [
    "sub2_jumping_features = extract_features(sub2_jumping_stepdf, \n",
    "                     column_id='act_id', column_sort='time',n_jobs = 4,\n",
    "                     default_fc_parameters=extraction_settings,\n",
    "                     impute_function= impute)\n",
    "sub2_jumping_features.to_csv('sub2_jumping_processed_normalized_features.csv')"
   ]
  },
  {
   "cell_type": "code",
   "execution_count": 64,
   "metadata": {},
   "outputs": [
    {
     "name": "stderr",
     "output_type": "stream",
     "text": [
      "Feature Extraction: 100%|██████████████████████████████████████████████████████████████| 20/20 [07:24<00:00, 22.20s/it]\n"
     ]
    }
   ],
   "source": [
    "sub3_jumping_features = extract_features(sub3_jumping_stepdf, \n",
    "                     column_id='act_id', column_sort='time',n_jobs = 4,\n",
    "                     default_fc_parameters=extraction_settings,\n",
    "                     impute_function= impute)\n",
    "sub3_jumping_features.to_csv('sub3_jumping_processed_normalized_features.csv')"
   ]
  },
  {
   "cell_type": "code",
   "execution_count": 65,
   "metadata": {},
   "outputs": [
    {
     "name": "stderr",
     "output_type": "stream",
     "text": [
      "Feature Extraction: 20it [06:53, 20.68s/it]                                                                            \n"
     ]
    }
   ],
   "source": [
    "sub4_jumping_features = extract_features(sub4_jumping_stepdf, \n",
    "                     column_id='act_id', column_sort='time',n_jobs = 4,\n",
    "                     default_fc_parameters=extraction_settings,\n",
    "                     impute_function= impute)\n",
    "sub4_jumping_features.to_csv('sub4_jumping_processed_normalized_features.csv')"
   ]
  },
  {
   "cell_type": "code",
   "execution_count": 66,
   "metadata": {},
   "outputs": [
    {
     "name": "stderr",
     "output_type": "stream",
     "text": [
      "Feature Extraction: 20it [07:09, 21.49s/it]                                                                            \n"
     ]
    }
   ],
   "source": [
    "sub1_bowing_features = extract_features(sub1_bowing_stepdf, \n",
    "                     column_id='act_id', column_sort='time',n_jobs = 4,\n",
    "                     default_fc_parameters=extraction_settings,\n",
    "                     impute_function= impute)\n",
    "sub1_bowing_features.to_csv('sub1_bowing_processed_normalized_features.csv')"
   ]
  },
  {
   "cell_type": "code",
   "execution_count": 67,
   "metadata": {},
   "outputs": [
    {
     "name": "stderr",
     "output_type": "stream",
     "text": [
      "Feature Extraction: 20it [06:46, 20.31s/it]                                                                            \n"
     ]
    }
   ],
   "source": [
    "sub2_bowing_features = extract_features(sub2_bowing_stepdf, \n",
    "                     column_id='act_id', column_sort='time',n_jobs = 4,\n",
    "                     default_fc_parameters=extraction_settings,\n",
    "                     impute_function= impute)\n",
    "sub2_bowing_features.to_csv('sub2_bowing_processed_normalized_features.csv')"
   ]
  },
  {
   "cell_type": "code",
   "execution_count": 68,
   "metadata": {},
   "outputs": [
    {
     "name": "stderr",
     "output_type": "stream",
     "text": [
      "Feature Extraction: 100%|██████████████████████████████████████████████████████████████| 20/20 [07:43<00:00, 23.18s/it]\n"
     ]
    }
   ],
   "source": [
    "sub3_bowing_features = extract_features(sub3_bowing_stepdf, \n",
    "                     column_id='act_id', column_sort='time',n_jobs = 4,\n",
    "                     default_fc_parameters=extraction_settings,\n",
    "                     impute_function= impute)\n",
    "sub3_bowing_features.to_csv('sub3_bowing_processed_normalized_features.csv')"
   ]
  },
  {
   "cell_type": "code",
   "execution_count": 69,
   "metadata": {},
   "outputs": [
    {
     "name": "stderr",
     "output_type": "stream",
     "text": [
      "Feature Extraction: 20it [08:24, 25.23s/it]                                                                            \n"
     ]
    }
   ],
   "source": [
    "sub4_bowing_features = extract_features(sub4_bowing_stepdf, \n",
    "                     column_id='act_id', column_sort='time',n_jobs = 4,\n",
    "                     default_fc_parameters=extraction_settings,\n",
    "                     impute_function= impute)\n",
    "sub4_bowing_features.to_csv('sub4_bowing_processed_normalized_features.csv')"
   ]
  },
  {
   "cell_type": "code",
   "execution_count": 70,
   "metadata": {},
   "outputs": [
    {
     "name": "stderr",
     "output_type": "stream",
     "text": [
      "Feature Extraction: 20it [07:29, 22.49s/it]                                                                            \n"
     ]
    }
   ],
   "source": [
    "sub1_elbowing_features = extract_features(sub1_elbowing_stepdf, \n",
    "                     column_id='act_id', column_sort='time',n_jobs = 4,\n",
    "                     default_fc_parameters=extraction_settings,\n",
    "                     impute_function= impute)\n",
    "sub1_elbowing_features.to_csv('sub1_elbowing_processed_normalized_features.csv')"
   ]
  },
  {
   "cell_type": "code",
   "execution_count": 71,
   "metadata": {},
   "outputs": [
    {
     "name": "stderr",
     "output_type": "stream",
     "text": [
      "Feature Extraction: 20it [07:00, 21.00s/it]                                                                            \n"
     ]
    }
   ],
   "source": [
    "sub2_elbowing_features = extract_features(sub2_elbowing_stepdf, \n",
    "                     column_id='act_id', column_sort='time',n_jobs = 4,\n",
    "                     default_fc_parameters=extraction_settings,\n",
    "                     impute_function= impute)\n",
    "sub2_elbowing_features.to_csv('sub2_elbowing_processed_normalized_features.csv')"
   ]
  },
  {
   "cell_type": "code",
   "execution_count": 72,
   "metadata": {},
   "outputs": [
    {
     "name": "stderr",
     "output_type": "stream",
     "text": [
      "Feature Extraction: 20it [07:34, 22.74s/it]                                                                            \n"
     ]
    }
   ],
   "source": [
    "sub3_elbowing_features = extract_features(sub3_elbowing_stepdf, \n",
    "                     column_id='act_id', column_sort='time',n_jobs = 4,\n",
    "                     default_fc_parameters=extraction_settings,\n",
    "                     impute_function= impute)\n",
    "sub3_elbowing_features.to_csv('sub3_elbowing_processed_normalized_features.csv')"
   ]
  },
  {
   "cell_type": "code",
   "execution_count": 73,
   "metadata": {},
   "outputs": [
    {
     "name": "stderr",
     "output_type": "stream",
     "text": [
      "Feature Extraction: 20it [07:15, 21.78s/it]                                                                            \n"
     ]
    }
   ],
   "source": [
    "sub4_elbowing_features = extract_features(sub4_elbowing_stepdf, \n",
    "                     column_id='act_id', column_sort='time',n_jobs = 4,\n",
    "                     default_fc_parameters=extraction_settings,\n",
    "                     impute_function= impute)\n",
    "sub4_elbowing_features.to_csv('sub4_elbowing_processed_normalized_features.csv')"
   ]
  },
  {
   "cell_type": "code",
   "execution_count": 74,
   "metadata": {},
   "outputs": [
    {
     "name": "stderr",
     "output_type": "stream",
     "text": [
      "Feature Extraction: 100%|██████████████████████████████████████████████████████████████| 20/20 [08:38<00:00, 25.91s/it]\n"
     ]
    }
   ],
   "source": [
    "sub1_running_features = extract_features(sub1_running_stepdf, \n",
    "                     column_id='act_id', column_sort='time',n_jobs = 4,\n",
    "                     default_fc_parameters=extraction_settings,\n",
    "                     impute_function= impute)\n",
    "sub1_running_features.to_csv('sub1_running_processed_normalized_features.csv')"
   ]
  },
  {
   "cell_type": "code",
   "execution_count": 75,
   "metadata": {},
   "outputs": [
    {
     "name": "stderr",
     "output_type": "stream",
     "text": [
      "Feature Extraction: 20it [07:50, 23.53s/it]                                                                            \n"
     ]
    }
   ],
   "source": [
    "sub2_running_features = extract_features(sub2_running_stepdf, \n",
    "                     column_id='act_id', column_sort='time',n_jobs = 4,\n",
    "                     default_fc_parameters=extraction_settings,\n",
    "                     impute_function= impute)\n",
    "sub2_running_features.to_csv('sub2_running_processed_normalized_features.csv')"
   ]
  },
  {
   "cell_type": "code",
   "execution_count": 76,
   "metadata": {},
   "outputs": [
    {
     "name": "stderr",
     "output_type": "stream",
     "text": [
      "Feature Extraction: 20it [06:36, 19.82s/it]                                                                            \n"
     ]
    }
   ],
   "source": [
    "sub3_running_features = extract_features(sub3_running_stepdf, \n",
    "                     column_id='act_id', column_sort='time',n_jobs = 4,\n",
    "                     default_fc_parameters=extraction_settings,\n",
    "                     impute_function= impute)\n",
    "sub3_running_features.to_csv('sub3_running_processed_normalized_features.csv')"
   ]
  },
  {
   "cell_type": "code",
   "execution_count": 77,
   "metadata": {},
   "outputs": [
    {
     "name": "stderr",
     "output_type": "stream",
     "text": [
      "Feature Extraction: 20it [07:05, 21.26s/it]                                                                            \n"
     ]
    }
   ],
   "source": [
    "sub4_running_features = extract_features(sub4_running_stepdf, \n",
    "                     column_id='act_id', column_sort='time',n_jobs = 4,\n",
    "                     default_fc_parameters=extraction_settings,\n",
    "                     impute_function= impute)\n",
    "sub4_running_features.to_csv('sub4_running_processed_normalized_features.csv')"
   ]
  },
  {
   "cell_type": "code",
   "execution_count": 78,
   "metadata": {},
   "outputs": [
    {
     "name": "stderr",
     "output_type": "stream",
     "text": [
      "Feature Extraction: 20it [22:58, 68.95s/it]                                                                            \n"
     ]
    }
   ],
   "source": [
    "sub1_walking_features = extract_features(sub1_walking_stepdf, \n",
    "                     column_id='act_id', column_sort='time',n_jobs = 4,\n",
    "                     default_fc_parameters=extraction_settings,\n",
    "                     impute_function= impute)\n",
    "sub1_walking_features.to_csv('sub1_walking_processed_normalized_features.csv')"
   ]
  },
  {
   "cell_type": "code",
   "execution_count": 79,
   "metadata": {},
   "outputs": [
    {
     "name": "stderr",
     "output_type": "stream",
     "text": [
      "Feature Extraction: 20it [07:44, 23.24s/it]                                                                            \n"
     ]
    }
   ],
   "source": [
    "sub2_walking_features = extract_features(sub2_walking_stepdf, \n",
    "                     column_id='act_id', column_sort='time',n_jobs = 4,\n",
    "                     default_fc_parameters=extraction_settings,\n",
    "                     impute_function= impute)\n",
    "sub2_walking_features.to_csv('sub2_walking_processed_normalized_features.csv')"
   ]
  },
  {
   "cell_type": "code",
   "execution_count": 80,
   "metadata": {},
   "outputs": [
    {
     "name": "stderr",
     "output_type": "stream",
     "text": [
      "Feature Extraction: 100%|██████████████████████████████████████████████████████████████| 20/20 [07:42<00:00, 23.11s/it]\n"
     ]
    }
   ],
   "source": [
    "sub3_walking_features = extract_features(sub3_walking_stepdf, \n",
    "                     column_id='act_id', column_sort='time',n_jobs = 4,\n",
    "                     default_fc_parameters=extraction_settings,\n",
    "                     impute_function= impute)\n",
    "sub3_walking_features.to_csv('sub3_walking_processed_normalized_features.csv')"
   ]
  },
  {
   "cell_type": "code",
   "execution_count": 81,
   "metadata": {},
   "outputs": [
    {
     "name": "stderr",
     "output_type": "stream",
     "text": [
      "Feature Extraction: 20it [06:38, 19.92s/it]                                                                            \n"
     ]
    }
   ],
   "source": [
    "sub4_walking_features = extract_features(sub4_walking_stepdf, \n",
    "                     column_id='act_id', column_sort='time',n_jobs = 4,\n",
    "                     default_fc_parameters=extraction_settings,\n",
    "                     impute_function= impute)\n",
    "sub4_walking_features.to_csv('sub4_walking_processed_normalized_features.csv')"
   ]
  },
  {
   "cell_type": "code",
   "execution_count": 82,
   "metadata": {},
   "outputs": [
    {
     "name": "stderr",
     "output_type": "stream",
     "text": [
      "Feature Extraction: 20it [07:43, 23.19s/it]                                                                            \n"
     ]
    }
   ],
   "source": [
    "sub1_clapping_features = extract_features(sub1_clapping_stepdf, \n",
    "                     column_id='act_id', column_sort='time',n_jobs = 4,\n",
    "                     default_fc_parameters=extraction_settings,\n",
    "                     impute_function= impute)\n",
    "sub1_clapping_features.to_csv('sub1_clapping_processed_normalized_features.csv')"
   ]
  },
  {
   "cell_type": "code",
   "execution_count": 83,
   "metadata": {},
   "outputs": [
    {
     "name": "stderr",
     "output_type": "stream",
     "text": [
      "Feature Extraction: 20it [07:15, 21.80s/it]                                                                            \n"
     ]
    }
   ],
   "source": [
    "sub2_clapping_features = extract_features(sub2_clapping_stepdf, \n",
    "                     column_id='act_id', column_sort='time',n_jobs = 4,\n",
    "                     default_fc_parameters=extraction_settings,\n",
    "                     impute_function= impute)\n",
    "sub2_clapping_features.to_csv('sub2_clapping_processed_normalized_features.csv')"
   ]
  },
  {
   "cell_type": "code",
   "execution_count": 84,
   "metadata": {},
   "outputs": [
    {
     "name": "stderr",
     "output_type": "stream",
     "text": [
      "Feature Extraction: 20it [04:58, 14.92s/it]                                                                            \n"
     ]
    }
   ],
   "source": [
    "sub3_clapping_features = extract_features(sub3_clapping_stepdf, \n",
    "                     column_id='act_id', column_sort='time',n_jobs = 4,\n",
    "                     default_fc_parameters=extraction_settings,\n",
    "                     impute_function= impute)\n",
    "sub3_clapping_features.to_csv('sub3_clapping_processed_normalized_features.csv')"
   ]
  },
  {
   "cell_type": "code",
   "execution_count": 85,
   "metadata": {},
   "outputs": [
    {
     "name": "stderr",
     "output_type": "stream",
     "text": [
      "Feature Extraction: 20it [04:15, 12.77s/it]                                                                            \n"
     ]
    }
   ],
   "source": [
    "sub4_clapping_features = extract_features(sub4_clapping_stepdf, \n",
    "                     column_id='act_id', column_sort='time',n_jobs = 4,\n",
    "                     default_fc_parameters=extraction_settings,\n",
    "                     impute_function= impute)\n",
    "sub4_clapping_features.to_csv('sub4_clapping_processed_normalized_features.csv')"
   ]
  },
  {
   "cell_type": "code",
   "execution_count": 86,
   "metadata": {},
   "outputs": [
    {
     "name": "stderr",
     "output_type": "stream",
     "text": [
      "Feature Extraction: 20it [05:17, 15.86s/it]                                                                            \n"
     ]
    }
   ],
   "source": [
    "sub1_waving_features = extract_features(sub1_waving_stepdf, \n",
    "                     column_id='act_id', column_sort='time',n_jobs = 4,\n",
    "                     default_fc_parameters=extraction_settings,\n",
    "                     impute_function= impute)\n",
    "sub1_waving_features.to_csv('sub1_waving_processed_normalized_features.csv')"
   ]
  },
  {
   "cell_type": "code",
   "execution_count": 87,
   "metadata": {},
   "outputs": [
    {
     "name": "stderr",
     "output_type": "stream",
     "text": [
      "Feature Extraction: 20it [04:18, 12.95s/it]                                                                            \n"
     ]
    }
   ],
   "source": [
    "sub2_waving_features = extract_features(sub2_waving_stepdf, \n",
    "                     column_id='act_id', column_sort='time',n_jobs = 4,\n",
    "                     default_fc_parameters=extraction_settings,\n",
    "                     impute_function= impute)\n",
    "sub2_waving_features.to_csv('sub2_waving_processed_normalized_features.csv')"
   ]
  },
  {
   "cell_type": "code",
   "execution_count": 88,
   "metadata": {},
   "outputs": [
    {
     "name": "stderr",
     "output_type": "stream",
     "text": [
      "Feature Extraction: 20it [04:35, 13.76s/it]                                                                            \n"
     ]
    }
   ],
   "source": [
    "sub3_waving_features = extract_features(sub3_waving_stepdf, \n",
    "                     column_id='act_id', column_sort='time',n_jobs = 4,\n",
    "                     default_fc_parameters=extraction_settings,\n",
    "                     impute_function= impute)\n",
    "sub3_waving_features.to_csv('sub3_waving_processed_normalized_features.csv')"
   ]
  },
  {
   "cell_type": "code",
   "execution_count": 89,
   "metadata": {
    "scrolled": true
   },
   "outputs": [
    {
     "name": "stderr",
     "output_type": "stream",
     "text": [
      "Feature Extraction: 20it [04:14, 12.73s/it]                                                                            \n"
     ]
    }
   ],
   "source": [
    "sub4_waving_features = extract_features(sub4_waving_stepdf, \n",
    "                     column_id='act_id', column_sort='time',n_jobs = 4,\n",
    "                     default_fc_parameters=extraction_settings,\n",
    "                     impute_function= impute)\n",
    "sub4_waving_features.to_csv('sub4_waving_processed_normalized_features.csv')"
   ]
  },
  {
   "cell_type": "code",
   "execution_count": null,
   "metadata": {},
   "outputs": [],
   "source": []
  },
  {
   "cell_type": "code",
   "execution_count": null,
   "metadata": {},
   "outputs": [],
   "source": []
  },
  {
   "cell_type": "code",
   "execution_count": null,
   "metadata": {},
   "outputs": [],
   "source": []
  }
 ],
 "metadata": {
  "kernelspec": {
   "display_name": "Python 2",
   "language": "python",
   "name": "python2"
  },
  "language_info": {
   "codemirror_mode": {
    "name": "ipython",
    "version": 2
   },
   "file_extension": ".py",
   "mimetype": "text/x-python",
   "name": "python",
   "nbconvert_exporter": "python",
   "pygments_lexer": "ipython2",
   "version": "2.7.14"
  }
 },
 "nbformat": 4,
 "nbformat_minor": 2
}
