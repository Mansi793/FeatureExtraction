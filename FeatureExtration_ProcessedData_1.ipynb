{
 "cells": [
  {
   "cell_type": "code",
   "execution_count": 1,
   "metadata": {},
   "outputs": [
    {
     "name": "stderr",
     "output_type": "stream",
     "text": [
      "C:\\Users\\Bhavya\\Anaconda3\\envs\\AppliedDataScience\\lib\\site-packages\\statsmodels\\compat\\pandas.py:56: FutureWarning: The pandas.core.datetools module is deprecated and will be removed in a future version. Please use the pandas.tseries module instead.\n",
      "  from pandas.core import datetools\n"
     ]
    }
   ],
   "source": [
    "import pandas as pd\n",
    "import matplotlib as mpl\n",
    "import matplotlib.pyplot as plt\n",
    "from tsfresh import extract_features, extract_relevant_features, select_features\n",
    "from tsfresh.utilities.dataframe_functions import impute\n",
    "from tsfresh.feature_extraction import ComprehensiveFCParameters, MinimalFCParameters, EfficientFCParameters\n",
    "from sklearn.linear_model import LogisticRegression\n",
    "from sklearn.naive_bayes import GaussianNB\n",
    "from sklearn.ensemble import RandomForestClassifier\n",
    "from sklearn.metrics import roc_curve\n",
    "from sklearn import preprocessing\n",
    "import sklearn.metrics as metrics\n",
    "import numpy as np\n",
    "import copy\n"
   ]
  },
  {
   "cell_type": "code",
   "execution_count": 17,
   "metadata": {},
   "outputs": [],
   "source": [
    "def stepwise_action_window_creator(df,window_size,step_size):\n",
    "    dflist = []\n",
    "    index = df.index.values\n",
    "    for i in range(0,len(index),step_size):\n",
    "        if(i > len(index) - window_size):\n",
    "            break;\n",
    "        else:\n",
    "            dflist.append(df.iloc[i:i+window_size])   \n",
    "    for i in range(0,len(dflist)):\n",
    "        index = dflist[i].index.values\n",
    "        dflist[i] = dflist[i].assign(time = range(index[-1]+1 - index[0]))\n",
    "        dflist[i] = dflist[i].assign(act_id = [i]*len(dflist[i]))\n",
    "    result = pd.concat(dflist)\n",
    "    return result"
   ]
  },
  {
   "cell_type": "code",
   "execution_count": 18,
   "metadata": {},
   "outputs": [],
   "source": [
    "sub1_pushing = pd.read_csv('sub1_Pushing_processed.txt', sep=\"\\s+\", header=None)\n",
    "sub1_pushing.columns = [\"R-Bic\", \"R-Tri\", \"L-Bic\", \"L-Tri\",\"R-Thi\", \"R-Ham\", \"L-Thi\", \"L-Ham\"]\n",
    "sub1_pushing = stepwise_action_window_creator(sub1_pushing,1000,100)\n",
    "\n",
    "sub2_pushing = pd.read_csv('sub2_Pushing_processed.txt', sep=\"\\s+\", header=None)\n",
    "sub2_pushing.columns = [\"R-Bic\", \"R-Tri\", \"L-Bic\", \"L-Tri\",\"R-Thi\", \"R-Ham\", \"L-Thi\", \"L-Ham\"]\n",
    "sub2_pushing = stepwise_action_window_creator(sub2_pushing,1000,100)\n",
    "\n",
    "sub3_pushing = pd.read_csv('sub3_Pushing_processed.txt', sep=\"\\s+\", header=None)\n",
    "sub3_pushing.columns = [\"R-Bic\", \"R-Tri\", \"L-Bic\", \"L-Tri\",\"R-Thi\", \"R-Ham\", \"L-Thi\", \"L-Ham\"]\n",
    "sub3_pushing = stepwise_action_window_creator(sub3_pushing,1000,100)\n",
    "\n",
    "sub4_pushing = pd.read_csv('sub4_Pushing_processed.txt', sep=\"\\s+\", header=None)\n",
    "sub4_pushing.columns = [\"R-Bic\", \"R-Tri\", \"L-Bic\", \"L-Tri\",\"R-Thi\", \"R-Ham\", \"L-Thi\", \"L-Ham\"]\n",
    "sub4_pushing = stepwise_action_window_creator(sub4_pushing,1000,100)"
   ]
  },
  {
   "cell_type": "code",
   "execution_count": 23,
   "metadata": {},
   "outputs": [],
   "source": [
    "sub1_sidekicking = pd.read_csv('sub1_Sidekicking_processed.txt', sep=\"\\s+\", header=None)\n",
    "sub1_sidekicking.columns = [\"R-Bic\", \"R-Tri\", \"L-Bic\", \"L-Tri\",\"R-Thi\", \"R-Ham\", \"L-Thi\", \"L-Ham\"]\n",
    "sub1_sidekicking = stepwise_action_window_creator(sub1_sidekicking,1000,100)\n",
    "\n",
    "sub2_sidekicking = pd.read_csv('sub2_Sidekicking_processed.txt', sep=\"\\s+\", header=None)\n",
    "sub2_sidekicking.columns = [\"R-Bic\", \"R-Tri\", \"L-Bic\", \"L-Tri\",\"R-Thi\", \"R-Ham\", \"L-Thi\", \"L-Ham\"]\n",
    "sub2_sidekicking = stepwise_action_window_creator(sub2_sidekicking,1000,100)\n",
    "\n",
    "sub3_sidekicking = pd.read_csv('sub3_Sidekicking_processed.txt', sep=\"\\s+\", header=None)\n",
    "sub3_sidekicking.columns = [\"R-Bic\", \"R-Tri\", \"L-Bic\", \"L-Tri\",\"R-Thi\", \"R-Ham\", \"L-Thi\", \"L-Ham\"]\n",
    "sub3_sidekicking = stepwise_action_window_creator(sub3_sidekicking,1000,100)\n",
    "\n",
    "sub4_sidekicking = pd.read_csv('sub4_Sidekicking_processed.txt', sep=\"\\s+\", header=None)\n",
    "sub4_sidekicking.columns = [\"R-Bic\", \"R-Tri\", \"L-Bic\", \"L-Tri\",\"R-Thi\", \"R-Ham\", \"L-Thi\", \"L-Ham\"]\n",
    "sub4_sidekicking = stepwise_action_window_creator(sub4_sidekicking,1000,100)\n"
   ]
  },
  {
   "cell_type": "code",
   "execution_count": 38,
   "metadata": {},
   "outputs": [],
   "source": [
    "sub1_slapping = pd.read_csv('sub1_Slapping_processed.txt', sep=\"\\s+\", header=None)\n",
    "sub1_slapping.columns = [\"R-Bic\", \"R-Tri\", \"L-Bic\", \"L-Tri\",\"R-Thi\", \"R-Ham\", \"L-Thi\", \"L-Ham\"]\n",
    "sub1_slapping = stepwise_action_window_creator(sub1_slapping,1000,100)\n",
    "\n",
    "sub2_slapping = pd.read_csv('sub2_Slapping_processed.txt', sep=\"\\s+\", header=None)\n",
    "sub2_slapping.columns = [\"R-Bic\", \"R-Tri\", \"L-Bic\", \"L-Tri\",\"R-Thi\", \"R-Ham\", \"L-Thi\", \"L-Ham\"]\n",
    "sub2_slapping = stepwise_action_window_creator(sub2_slapping,1000,100)\n",
    "\n",
    "sub3_slapping = pd.read_csv('sub3_Slapping_processed.txt', sep=\"\\s+\", header=None)\n",
    "sub3_slapping.columns = [\"R-Bic\", \"R-Tri\", \"L-Bic\", \"L-Tri\",\"R-Thi\", \"R-Ham\", \"L-Thi\", \"L-Ham\"]\n",
    "sub3_slapping = stepwise_action_window_creator(sub3_slapping,1000,100)\n",
    "\n",
    "sub4_slapping = pd.read_csv('sub4_Slapping_processed.txt', sep=\"\\s+\", header=None)\n",
    "sub4_slapping.columns = [\"R-Bic\", \"R-Tri\", \"L-Bic\", \"L-Tri\",\"R-Thi\", \"R-Ham\", \"L-Thi\", \"L-Ham\"]\n",
    "sub4_slapping = stepwise_action_window_creator(sub4_slapping,1000,100)\n"
   ]
  },
  {
   "cell_type": "code",
   "execution_count": 39,
   "metadata": {},
   "outputs": [
    {
     "data": {
      "text/html": [
       "<div>\n",
       "<style scoped>\n",
       "    .dataframe tbody tr th:only-of-type {\n",
       "        vertical-align: middle;\n",
       "    }\n",
       "\n",
       "    .dataframe tbody tr th {\n",
       "        vertical-align: top;\n",
       "    }\n",
       "\n",
       "    .dataframe thead th {\n",
       "        text-align: right;\n",
       "    }\n",
       "</style>\n",
       "<table border=\"1\" class=\"dataframe\">\n",
       "  <thead>\n",
       "    <tr style=\"text-align: right;\">\n",
       "      <th></th>\n",
       "      <th>R-Bic</th>\n",
       "      <th>R-Tri</th>\n",
       "      <th>L-Bic</th>\n",
       "      <th>L-Tri</th>\n",
       "      <th>R-Thi</th>\n",
       "      <th>R-Ham</th>\n",
       "      <th>L-Thi</th>\n",
       "      <th>L-Ham</th>\n",
       "      <th>time</th>\n",
       "      <th>act_id</th>\n",
       "    </tr>\n",
       "  </thead>\n",
       "  <tbody>\n",
       "    <tr>\n",
       "      <th>0</th>\n",
       "      <td>768.939613</td>\n",
       "      <td>-2.016984</td>\n",
       "      <td>200.258532</td>\n",
       "      <td>53.844564</td>\n",
       "      <td>2882.679957</td>\n",
       "      <td>548.971366</td>\n",
       "      <td>289.435435</td>\n",
       "      <td>1363.487393</td>\n",
       "      <td>0</td>\n",
       "      <td>0</td>\n",
       "    </tr>\n",
       "    <tr>\n",
       "      <th>1</th>\n",
       "      <td>1077.817107</td>\n",
       "      <td>58.373533</td>\n",
       "      <td>163.576423</td>\n",
       "      <td>59.016179</td>\n",
       "      <td>2969.659601</td>\n",
       "      <td>519.288940</td>\n",
       "      <td>449.296042</td>\n",
       "      <td>1302.010863</td>\n",
       "      <td>1</td>\n",
       "      <td>0</td>\n",
       "    </tr>\n",
       "    <tr>\n",
       "      <th>2</th>\n",
       "      <td>1354.117022</td>\n",
       "      <td>114.957874</td>\n",
       "      <td>132.614464</td>\n",
       "      <td>64.062779</td>\n",
       "      <td>3043.380727</td>\n",
       "      <td>491.098961</td>\n",
       "      <td>601.876909</td>\n",
       "      <td>1244.532826</td>\n",
       "      <td>2</td>\n",
       "      <td>0</td>\n",
       "    </tr>\n",
       "    <tr>\n",
       "      <th>3</th>\n",
       "      <td>1599.317028</td>\n",
       "      <td>167.839294</td>\n",
       "      <td>107.095724</td>\n",
       "      <td>68.985790</td>\n",
       "      <td>3104.593844</td>\n",
       "      <td>464.358739</td>\n",
       "      <td>747.227875</td>\n",
       "      <td>1190.889247</td>\n",
       "      <td>3</td>\n",
       "      <td>0</td>\n",
       "    </tr>\n",
       "    <tr>\n",
       "      <th>4</th>\n",
       "      <td>1814.894798</td>\n",
       "      <td>217.121052</td>\n",
       "      <td>86.743273</td>\n",
       "      <td>73.786639</td>\n",
       "      <td>3154.049462</td>\n",
       "      <td>439.025584</td>\n",
       "      <td>885.398781</td>\n",
       "      <td>1140.916086</td>\n",
       "      <td>4</td>\n",
       "      <td>0</td>\n",
       "    </tr>\n",
       "  </tbody>\n",
       "</table>\n",
       "</div>"
      ],
      "text/plain": [
       "         R-Bic       R-Tri       L-Bic      L-Tri        R-Thi       R-Ham  \\\n",
       "0   768.939613   -2.016984  200.258532  53.844564  2882.679957  548.971366   \n",
       "1  1077.817107   58.373533  163.576423  59.016179  2969.659601  519.288940   \n",
       "2  1354.117022  114.957874  132.614464  64.062779  3043.380727  491.098961   \n",
       "3  1599.317028  167.839294  107.095724  68.985790  3104.593844  464.358739   \n",
       "4  1814.894798  217.121052   86.743273  73.786639  3154.049462  439.025584   \n",
       "\n",
       "        L-Thi        L-Ham  time  act_id  \n",
       "0  289.435435  1363.487393     0       0  \n",
       "1  449.296042  1302.010863     1       0  \n",
       "2  601.876909  1244.532826     2       0  \n",
       "3  747.227875  1190.889247     3       0  \n",
       "4  885.398781  1140.916086     4       0  "
      ]
     },
     "execution_count": 39,
     "metadata": {},
     "output_type": "execute_result"
    }
   ],
   "source": [
    "sub1_slapping.head()"
   ]
  },
  {
   "cell_type": "code",
   "execution_count": 45,
   "metadata": {},
   "outputs": [],
   "source": [
    "sub1_frontkicking = pd.read_csv('sub1_Frontkicking_processed.txt', sep=\"\\s+\", header=None)\n",
    "sub1_frontkicking.columns = [\"R-Bic\", \"R-Tri\", \"L-Bic\", \"L-Tri\",\"R-Thi\", \"R-Ham\", \"L-Thi\", \"L-Ham\"]\n",
    "sub1_frontkicking = stepwise_action_window_creator(sub1_frontkicking,1000,100)\n",
    "\n",
    "sub2_frontkicking = pd.read_csv('sub2_Frontkicking_processed.txt', sep=\"\\s+\", header=None)\n",
    "sub2_frontkicking.columns = [\"R-Bic\", \"R-Tri\", \"L-Bic\", \"L-Tri\",\"R-Thi\", \"R-Ham\", \"L-Thi\", \"L-Ham\"]\n",
    "sub2_frontkicking = stepwise_action_window_creator(sub2_frontkicking,1000,100)\n",
    "\n",
    "sub3_frontkicking = pd.read_csv('sub3_Frontkicking_processed.txt', sep=\"\\s+\", header=None)\n",
    "sub3_frontkicking.columns = [\"R-Bic\", \"R-Tri\", \"L-Bic\", \"L-Tri\",\"R-Thi\", \"R-Ham\", \"L-Thi\", \"L-Ham\"]\n",
    "sub3_frontkicking = stepwise_action_window_creator(sub3_frontkicking,1000,100)\n",
    "\n",
    "sub4_frontkicking = pd.read_csv('sub4_Frontkicking_processed.txt', sep=\"\\s+\", header=None)\n",
    "sub4_frontkicking.columns = [\"R-Bic\", \"R-Tri\", \"L-Bic\", \"L-Tri\",\"R-Thi\", \"R-Ham\", \"L-Thi\", \"L-Ham\"]\n",
    "sub4_frontkicking = stepwise_action_window_creator(sub4_frontkicking,1000,100)\n"
   ]
  },
  {
   "cell_type": "code",
   "execution_count": 46,
   "metadata": {},
   "outputs": [],
   "source": [
    "sub1_elbowing = pd.read_csv('sub1_Elbowing_processed.txt', sep=\"\\s+\", header=None)\n",
    "sub1_elbowing.columns = [\"R-Bic\", \"R-Tri\", \"L-Bic\", \"L-Tri\",\"R-Thi\", \"R-Ham\", \"L-Thi\", \"L-Ham\"]\n",
    "sub1_elbowing = stepwise_action_window_creator(sub1_elbowing,1000,100)\n",
    "\n",
    "sub2_elbowing = pd.read_csv('sub2_Elbowing_processed.txt', sep=\"\\s+\", header=None)\n",
    "sub2_elbowing.columns = [\"R-Bic\", \"R-Tri\", \"L-Bic\", \"L-Tri\",\"R-Thi\", \"R-Ham\", \"L-Thi\", \"L-Ham\"]\n",
    "sub2_elbowing = stepwise_action_window_creator(sub2_elbowing,1000,100)\n",
    "\n",
    "sub3_elbowing = pd.read_csv('sub3_Elbowing_processed.txt', sep=\"\\s+\", header=None)\n",
    "sub3_elbowing.columns = [\"R-Bic\", \"R-Tri\", \"L-Bic\", \"L-Tri\",\"R-Thi\", \"R-Ham\", \"L-Thi\", \"L-Ham\"]\n",
    "sub3_elbowing = stepwise_action_window_creator(sub3_elbowing,1000,100)\n",
    "\n",
    "sub4_elbowing = pd.read_csv('sub4_Elbowing_processed.txt', sep=\"\\s+\", header=None)\n",
    "sub4_elbowing.columns = [\"R-Bic\", \"R-Tri\", \"L-Bic\", \"L-Tri\",\"R-Thi\", \"R-Ham\", \"L-Thi\", \"L-Ham\"]\n",
    "sub4_elbowing = stepwise_action_window_creator(sub4_elbowing,1000,100)\n"
   ]
  },
  {
   "cell_type": "code",
   "execution_count": 47,
   "metadata": {},
   "outputs": [],
   "source": [
    "sub1_pulling = pd.read_csv('sub1_Pulling_processed.txt', sep=\"\\s+\", header=None)\n",
    "sub1_pulling.columns = [\"R-Bic\", \"R-Tri\", \"L-Bic\", \"L-Tri\",\"R-Thi\", \"R-Ham\", \"L-Thi\", \"L-Ham\"]\n",
    "sub1_pulling = stepwise_action_window_creator(sub1_pulling,1000,100)\n",
    "\n",
    "sub2_pulling = pd.read_csv('sub2_Pulling_processed.txt', sep=\"\\s+\", header=None)\n",
    "sub2_pulling.columns = [\"R-Bic\", \"R-Tri\", \"L-Bic\", \"L-Tri\",\"R-Thi\", \"R-Ham\", \"L-Thi\", \"L-Ham\"]\n",
    "sub2_pulling = stepwise_action_window_creator(sub2_pulling,1000,100)\n",
    "\n",
    "sub3_pulling = pd.read_csv('sub3_Pulling_processed.txt', sep=\"\\s+\", header=None)\n",
    "sub3_pulling.columns = [\"R-Bic\", \"R-Tri\", \"L-Bic\", \"L-Tri\",\"R-Thi\", \"R-Ham\", \"L-Thi\", \"L-Ham\"]\n",
    "sub3_pulling = stepwise_action_window_creator(sub3_pulling,1000,100)\n",
    "\n",
    "sub4_pulling = pd.read_csv('sub4_Pulling_processed.txt', sep=\"\\s+\", header=None)\n",
    "sub4_pulling.columns = [\"R-Bic\", \"R-Tri\", \"L-Bic\", \"L-Tri\",\"R-Thi\", \"R-Ham\", \"L-Thi\", \"L-Ham\"]\n",
    "sub4_pulling = stepwise_action_window_creator(sub4_pulling,1000,100)\n"
   ]
  },
  {
   "cell_type": "code",
   "execution_count": 27,
   "metadata": {},
   "outputs": [],
   "source": [
    "extraction_settings = EfficientFCParameters()"
   ]
  },
  {
   "cell_type": "code",
   "execution_count": 28,
   "metadata": {},
   "outputs": [
    {
     "name": "stderr",
     "output_type": "stream",
     "text": [
      "Feature Extraction: 20it [03:16,  9.81s/it]                                                                                                                                                                       \n"
     ]
    }
   ],
   "source": [
    "sub1_pushing_features = extract_features(sub1_pushing, \n",
    "                     column_id='act_id', column_sort='time',n_jobs = 4,\n",
    "                     default_fc_parameters=extraction_settings,\n",
    "                     impute_function= impute)"
   ]
  },
  {
   "cell_type": "code",
   "execution_count": 29,
   "metadata": {},
   "outputs": [
    {
     "name": "stderr",
     "output_type": "stream",
     "text": [
      "Feature Extraction: 20it [03:22, 10.15s/it]                                                                                                                                                                       \n"
     ]
    }
   ],
   "source": [
    "sub2_pushing_features = extract_features(sub2_pushing, \n",
    "                     column_id='act_id', column_sort='time',n_jobs = 4,\n",
    "                     default_fc_parameters=extraction_settings,\n",
    "                     impute_function= impute)"
   ]
  },
  {
   "cell_type": "code",
   "execution_count": 30,
   "metadata": {},
   "outputs": [
    {
     "name": "stderr",
     "output_type": "stream",
     "text": [
      "Feature Extraction: 100%|█████████████████████████████████████████████████████████████████████████████████████████████████████████████████████████████████████████████████████████| 20/20 [03:31<00:00, 10.59s/it]\n"
     ]
    }
   ],
   "source": [
    "sub3_pushing_features = extract_features(sub3_pushing, \n",
    "                     column_id='act_id', column_sort='time',n_jobs = 4,\n",
    "                     default_fc_parameters=extraction_settings,\n",
    "                     impute_function= impute)"
   ]
  },
  {
   "cell_type": "code",
   "execution_count": 31,
   "metadata": {},
   "outputs": [
    {
     "name": "stderr",
     "output_type": "stream",
     "text": [
      "Feature Extraction: 20it [03:18,  9.95s/it]                                                                                                                                                                       \n"
     ]
    }
   ],
   "source": [
    "sub4_pushing_features = extract_features(sub4_pushing, \n",
    "                     column_id='act_id', column_sort='time',n_jobs = 4,\n",
    "                     default_fc_parameters=extraction_settings,\n",
    "                     impute_function= impute)"
   ]
  },
  {
   "cell_type": "code",
   "execution_count": 32,
   "metadata": {},
   "outputs": [
    {
     "name": "stderr",
     "output_type": "stream",
     "text": [
      "Feature Extraction: 20it [03:25, 10.29s/it]                                                                                                                                                                       \n"
     ]
    }
   ],
   "source": [
    "sub1_sidekicking_features = extract_features(sub1_sidekicking, \n",
    "                     column_id='act_id', column_sort='time',n_jobs = 4,\n",
    "                     default_fc_parameters=extraction_settings,\n",
    "                     impute_function= impute)"
   ]
  },
  {
   "cell_type": "code",
   "execution_count": 33,
   "metadata": {},
   "outputs": [
    {
     "name": "stderr",
     "output_type": "stream",
     "text": [
      "Feature Extraction: 20it [03:22, 10.14s/it]                                                                                                                                                                       \n"
     ]
    }
   ],
   "source": [
    "sub2_sidekicking_features = extract_features(sub2_sidekicking, \n",
    "                     column_id='act_id', column_sort='time',n_jobs = 4,\n",
    "                     default_fc_parameters=extraction_settings,\n",
    "                     impute_function= impute)"
   ]
  },
  {
   "cell_type": "code",
   "execution_count": 34,
   "metadata": {},
   "outputs": [
    {
     "name": "stderr",
     "output_type": "stream",
     "text": [
      "Feature Extraction: 20it [03:30, 10.51s/it]                                                                                                                                                                       \n"
     ]
    }
   ],
   "source": [
    "sub3_sidekicking_features = extract_features(sub3_sidekicking, \n",
    "                     column_id='act_id', column_sort='time',n_jobs = 4,\n",
    "                     default_fc_parameters=extraction_settings,\n",
    "                     impute_function= impute)"
   ]
  },
  {
   "cell_type": "code",
   "execution_count": 35,
   "metadata": {},
   "outputs": [
    {
     "name": "stderr",
     "output_type": "stream",
     "text": [
      "Feature Extraction: 20it [03:51, 11.59s/it]                                                                                                                                                                       \n"
     ]
    }
   ],
   "source": [
    "sub4_sidekicking_features = extract_features(sub4_sidekicking, \n",
    "                     column_id='act_id', column_sort='time',n_jobs = 4,\n",
    "                     default_fc_parameters=extraction_settings,\n",
    "                     impute_function= impute)"
   ]
  },
  {
   "cell_type": "code",
   "execution_count": 40,
   "metadata": {},
   "outputs": [
    {
     "name": "stderr",
     "output_type": "stream",
     "text": [
      "Feature Extraction: 20it [03:42, 11.11s/it]                                                                                                                                                                       \n"
     ]
    }
   ],
   "source": [
    "sub1_slapping_features = extract_features(sub1_slapping, \n",
    "                     column_id='act_id', column_sort='time',n_jobs = 4,\n",
    "                     default_fc_parameters=extraction_settings,\n",
    "                     impute_function= impute)"
   ]
  },
  {
   "cell_type": "code",
   "execution_count": 41,
   "metadata": {},
   "outputs": [
    {
     "name": "stderr",
     "output_type": "stream",
     "text": [
      "Feature Extraction: 20it [03:54, 11.73s/it]                                                                                                                                                                       \n"
     ]
    }
   ],
   "source": [
    "sub2_slapping_features = extract_features(sub2_slapping, \n",
    "                     column_id='act_id', column_sort='time',n_jobs = 4,\n",
    "                     default_fc_parameters=extraction_settings,\n",
    "                     impute_function= impute)"
   ]
  },
  {
   "cell_type": "code",
   "execution_count": 42,
   "metadata": {},
   "outputs": [
    {
     "name": "stderr",
     "output_type": "stream",
     "text": [
      "Feature Extraction: 20it [03:59, 12.00s/it]                                                                                                                                                                       \n"
     ]
    }
   ],
   "source": [
    "sub3_slapping_features = extract_features(sub3_slapping, \n",
    "                     column_id='act_id', column_sort='time',n_jobs = 4,\n",
    "                     default_fc_parameters=extraction_settings,\n",
    "                     impute_function= impute)"
   ]
  },
  {
   "cell_type": "code",
   "execution_count": 43,
   "metadata": {},
   "outputs": [
    {
     "name": "stderr",
     "output_type": "stream",
     "text": [
      "Feature Extraction: 20it [04:02, 12.13s/it]                                                                                                                                                                       \n"
     ]
    }
   ],
   "source": [
    "sub4_slapping_features = extract_features(sub4_slapping, \n",
    "                     column_id='act_id', column_sort='time',n_jobs = 4,\n",
    "                     default_fc_parameters=extraction_settings,\n",
    "                     impute_function= impute)"
   ]
  },
  {
   "cell_type": "code",
   "execution_count": 48,
   "metadata": {},
   "outputs": [
    {
     "name": "stderr",
     "output_type": "stream",
     "text": [
      "Feature Extraction: 20it [03:20, 10.02s/it]                                                                                                                                                                       \n"
     ]
    }
   ],
   "source": [
    "sub1_frontkicking_features = extract_features(sub1_frontkicking, \n",
    "                     column_id='act_id', column_sort='time',n_jobs = 4,\n",
    "                     default_fc_parameters=extraction_settings,\n",
    "                     impute_function= impute)"
   ]
  },
  {
   "cell_type": "code",
   "execution_count": 49,
   "metadata": {},
   "outputs": [
    {
     "name": "stderr",
     "output_type": "stream",
     "text": [
      "Feature Extraction: 20it [03:22, 10.11s/it]                                                                                                                                                                       \n"
     ]
    }
   ],
   "source": [
    "sub2_frontkicking_features = extract_features(sub2_frontkicking, \n",
    "                     column_id='act_id', column_sort='time',n_jobs = 4,\n",
    "                     default_fc_parameters=extraction_settings,\n",
    "                     impute_function= impute)"
   ]
  },
  {
   "cell_type": "code",
   "execution_count": 50,
   "metadata": {},
   "outputs": [
    {
     "name": "stderr",
     "output_type": "stream",
     "text": [
      "Feature Extraction: 20it [03:30, 10.52s/it]                                                                                                                                                                       \n"
     ]
    }
   ],
   "source": [
    "sub3_frontkicking_features = extract_features(sub3_frontkicking, \n",
    "                     column_id='act_id', column_sort='time',n_jobs = 4,\n",
    "                     default_fc_parameters=extraction_settings,\n",
    "                     impute_function= impute)"
   ]
  },
  {
   "cell_type": "code",
   "execution_count": 51,
   "metadata": {},
   "outputs": [
    {
     "name": "stderr",
     "output_type": "stream",
     "text": [
      "Feature Extraction: 20it [03:03,  9.18s/it]                                                                                                                                                                       \n"
     ]
    }
   ],
   "source": [
    "sub4_frontkicking_features = extract_features(sub4_frontkicking, \n",
    "                     column_id='act_id', column_sort='time',n_jobs = 4,\n",
    "                     default_fc_parameters=extraction_settings,\n",
    "                     impute_function= impute)"
   ]
  },
  {
   "cell_type": "code",
   "execution_count": 52,
   "metadata": {},
   "outputs": [
    {
     "name": "stderr",
     "output_type": "stream",
     "text": [
      "Feature Extraction: 20it [03:09,  9.46s/it]                                                                                                                                                                       \n"
     ]
    }
   ],
   "source": [
    "sub1_elbowing_features = extract_features(sub1_elbowing, \n",
    "                     column_id='act_id', column_sort='time',n_jobs = 4,\n",
    "                     default_fc_parameters=extraction_settings,\n",
    "                     impute_function= impute)"
   ]
  },
  {
   "cell_type": "code",
   "execution_count": 53,
   "metadata": {},
   "outputs": [
    {
     "name": "stderr",
     "output_type": "stream",
     "text": [
      "Feature Extraction: 20it [03:27, 10.38s/it]                                                                                                                                                                       \n"
     ]
    }
   ],
   "source": [
    "sub2_elbowing_features = extract_features(sub2_elbowing, \n",
    "                     column_id='act_id', column_sort='time',n_jobs = 4,\n",
    "                     default_fc_parameters=extraction_settings,\n",
    "                     impute_function= impute)"
   ]
  },
  {
   "cell_type": "code",
   "execution_count": 54,
   "metadata": {},
   "outputs": [
    {
     "name": "stderr",
     "output_type": "stream",
     "text": [
      "Feature Extraction: 20it [03:16,  9.85s/it]                                                                                                                                                                       \n"
     ]
    }
   ],
   "source": [
    "sub3_elbowing_features = extract_features(sub3_elbowing, \n",
    "                     column_id='act_id', column_sort='time',n_jobs = 4,\n",
    "                     default_fc_parameters=extraction_settings,\n",
    "                     impute_function= impute)"
   ]
  },
  {
   "cell_type": "code",
   "execution_count": 55,
   "metadata": {},
   "outputs": [
    {
     "name": "stderr",
     "output_type": "stream",
     "text": [
      "Feature Extraction: 20it [03:15,  9.78s/it]                                                                                                                                                                       \n"
     ]
    }
   ],
   "source": [
    "sub4_elbowing_features = extract_features(sub4_elbowing, \n",
    "                     column_id='act_id', column_sort='time',n_jobs = 4,\n",
    "                     default_fc_parameters=extraction_settings,\n",
    "                     impute_function= impute)"
   ]
  },
  {
   "cell_type": "code",
   "execution_count": 56,
   "metadata": {},
   "outputs": [
    {
     "name": "stderr",
     "output_type": "stream",
     "text": [
      "Feature Extraction: 20it [03:12,  9.63s/it]                                                                                                                                                                       \n"
     ]
    }
   ],
   "source": [
    "sub1_pulling_features = extract_features(sub1_pulling, \n",
    "                     column_id='act_id', column_sort='time',n_jobs = 4,\n",
    "                     default_fc_parameters=extraction_settings,\n",
    "                     impute_function= impute)"
   ]
  },
  {
   "cell_type": "code",
   "execution_count": 57,
   "metadata": {},
   "outputs": [
    {
     "name": "stderr",
     "output_type": "stream",
     "text": [
      "Feature Extraction: 20it [03:25, 10.28s/it]                                                                                                                                                                       \n"
     ]
    }
   ],
   "source": [
    "sub2_pulling_features = extract_features(sub2_pulling, \n",
    "                     column_id='act_id', column_sort='time',n_jobs = 4,\n",
    "                     default_fc_parameters=extraction_settings,\n",
    "                     impute_function= impute)"
   ]
  },
  {
   "cell_type": "code",
   "execution_count": 58,
   "metadata": {},
   "outputs": [
    {
     "name": "stderr",
     "output_type": "stream",
     "text": [
      "Feature Extraction: 20it [03:25, 10.25s/it]                                                                                                                                                                       \n"
     ]
    }
   ],
   "source": [
    "sub3_pulling_features = extract_features(sub3_pulling, \n",
    "                     column_id='act_id', column_sort='time',n_jobs = 4,\n",
    "                     default_fc_parameters=extraction_settings,\n",
    "                     impute_function= impute)"
   ]
  },
  {
   "cell_type": "code",
   "execution_count": 59,
   "metadata": {},
   "outputs": [
    {
     "name": "stderr",
     "output_type": "stream",
     "text": [
      "Feature Extraction: 20it [03:25, 10.29s/it]                                                                                                                                                                       \n"
     ]
    }
   ],
   "source": [
    "sub4_pulling_features = extract_features(sub4_pulling, \n",
    "                     column_id='act_id', column_sort='time',n_jobs = 4,\n",
    "                     default_fc_parameters=extraction_settings,\n",
    "                     impute_function= impute)"
   ]
  },
  {
   "cell_type": "code",
   "execution_count": 62,
   "metadata": {},
   "outputs": [],
   "source": [
    "\n",
    "sub1_pushing_features.to_csv('sub1_pushing_processed_features.csv')\n",
    "sub1_sidekicking_features.to_csv('sub1_sidekicking_processed_features.csv')\n",
    "sub1_slapping_features.to_csv('sub1_slapping_processed_features.csv')\n",
    "sub1_frontkicking_features.to_csv('sub1_frontkicking_processed_features.csv')\n",
    "sub1_elbowing_features.to_csv('sub1_elbowing_processed_features.csv')\n",
    "sub1_pulling_features.to_csv('sub1_pulling_processed_features.csv')\n",
    "\n",
    "sub2_pushing_features.to_csv('sub2_pushing_processed_features.csv')\n",
    "sub2_sidekicking_features.to_csv('sub2_sidekicking_processed_features.csv')\n",
    "sub2_slapping_features.to_csv('sub2_slapping_processed_features.csv')\n",
    "sub2_frontkicking_features.to_csv('sub2_frontkicking_processed_features.csv')\n",
    "sub2_elbowing_features.to_csv('sub2_elbowing_processed_features.csv')\n",
    "sub2_pulling_features.to_csv('sub2_pulling_processed_features.csv')\n",
    "\n",
    "sub3_pushing_features.to_csv('sub3_pushing_processed_features.csv')\n",
    "sub3_sidekicking_features.to_csv('sub3_sidekicking_processed_features.csv')\n",
    "sub3_slapping_features.to_csv('sub3_slapping_processed_features.csv')\n",
    "sub3_frontkicking_features.to_csv('sub3_frontkicking_processed_features.csv')\n",
    "sub3_elbowing_features.to_csv('sub3_elbowing_processed_features.csv')\n",
    "sub3_pulling_features.to_csv('sub3_pulling_processed_features.csv')\n",
    "\n",
    "sub4_pushing_features.to_csv('sub4_pushing_processed_features.csv')\n",
    "sub4_sidekicking_features.to_csv('sub4_sidekicking_processed_features.csv')\n",
    "sub4_slapping_features.to_csv('sub4_slapping_processed_features.csv')\n",
    "sub4_frontkicking_features.to_csv('sub4_frontkicking_processed_features.csv')\n",
    "sub4_elbowing_features.to_csv('sub4_elbowing_processed_features.csv')\n",
    "sub4_pulling_features.to_csv('sub4_pulling_processed_features.csv')"
   ]
  }
 ],
 "metadata": {
  "kernelspec": {
   "display_name": "Python 2",
   "language": "python",
   "name": "python2"
  },
  "language_info": {
   "codemirror_mode": {
    "name": "ipython",
    "version": 2
   },
   "file_extension": ".py",
   "mimetype": "text/x-python",
   "name": "python",
   "nbconvert_exporter": "python",
   "pygments_lexer": "ipython2",
   "version": "2.7.14"
  }
 },
 "nbformat": 4,
 "nbformat_minor": 2
}
